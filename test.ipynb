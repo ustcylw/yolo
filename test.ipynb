{
 "cells": [
  {
   "cell_type": "code",
   "execution_count": 6,
   "id": "roman-offer",
   "metadata": {
    "ExecuteTime": {
     "end_time": "2021-04-20T07:45:26.742477Z",
     "start_time": "2021-04-20T07:45:26.740349Z"
    }
   },
   "outputs": [],
   "source": [
    "import numpy as np\n",
    "import torch"
   ]
  },
  {
   "cell_type": "code",
   "execution_count": 17,
   "id": "gorgeous-balloon",
   "metadata": {
    "ExecuteTime": {
     "end_time": "2021-04-20T07:48:31.104074Z",
     "start_time": "2021-04-20T07:48:31.091087Z"
    }
   },
   "outputs": [],
   "source": [
    "a = torch.FloatTensor([[15, 30, 35, 60], [45, 60, 80, 90], [80, 30, 130, 60]])\n",
    "b = torch.FloatTensor([[20, 35, 40, 65], [50, 65, 85, 95], [85, 35, 135, 65], [40, 20, 90, 90]])"
   ]
  },
  {
   "cell_type": "code",
   "execution_count": 18,
   "id": "identified-testament",
   "metadata": {
    "ExecuteTime": {
     "end_time": "2021-04-20T07:48:31.606224Z",
     "start_time": "2021-04-20T07:48:31.592701Z"
    }
   },
   "outputs": [
    {
     "data": {
      "text/plain": [
       "tensor([[ 15.,  30.,  35.,  60.],\n",
       "        [ 45.,  60.,  80.,  90.],\n",
       "        [ 80.,  30., 130.,  60.]])"
      ]
     },
     "execution_count": 18,
     "metadata": {},
     "output_type": "execute_result"
    }
   ],
   "source": [
    "a"
   ]
  },
  {
   "cell_type": "code",
   "execution_count": 19,
   "id": "governing-output",
   "metadata": {
    "ExecuteTime": {
     "end_time": "2021-04-20T07:48:32.104247Z",
     "start_time": "2021-04-20T07:48:32.100493Z"
    }
   },
   "outputs": [
    {
     "data": {
      "text/plain": [
       "tensor([[ 20.,  35.,  40.,  65.],\n",
       "        [ 50.,  65.,  85.,  95.],\n",
       "        [ 85.,  35., 135.,  65.],\n",
       "        [ 40.,  20.,  90.,  90.]])"
      ]
     },
     "execution_count": 19,
     "metadata": {},
     "output_type": "execute_result"
    }
   ],
   "source": [
    "b"
   ]
  },
  {
   "cell_type": "code",
   "execution_count": 40,
   "id": "german-israel",
   "metadata": {
    "ExecuteTime": {
     "end_time": "2021-04-20T08:23:53.343743Z",
     "start_time": "2021-04-20T08:23:53.337861Z"
    }
   },
   "outputs": [
    {
     "name": "stdout",
     "output_type": "stream",
     "text": [
      "a==>tensor([[[15., 30.],\n",
      "         [15., 30.],\n",
      "         [15., 30.],\n",
      "         [15., 30.]],\n",
      "\n",
      "        [[45., 60.],\n",
      "         [45., 60.],\n",
      "         [45., 60.],\n",
      "         [45., 60.]],\n",
      "\n",
      "        [[80., 30.],\n",
      "         [80., 30.],\n",
      "         [80., 30.],\n",
      "         [80., 30.]]])\n",
      "b==>tensor([[[20., 35.],\n",
      "         [50., 65.],\n",
      "         [85., 35.],\n",
      "         [40., 20.]],\n",
      "\n",
      "        [[20., 35.],\n",
      "         [50., 65.],\n",
      "         [85., 35.],\n",
      "         [40., 20.]],\n",
      "\n",
      "        [[20., 35.],\n",
      "         [50., 65.],\n",
      "         [85., 35.],\n",
      "         [40., 20.]]])\n"
     ]
    }
   ],
   "source": [
    "N, M = a.size(0), b.size(0)\n",
    "print(f'a==>{a[:,:2].unsqueeze(1).expand(N,M,2)}')\n",
    "print(f'b==>{b[:,:2].unsqueeze(0).expand(N,M,2)}')\n",
    "lt = torch.max(\n",
    "            a[:,:2].unsqueeze(1).expand(N,M,2),  # [N,2] -> [N,1,2] -> [N,M,2]\n",
    "            b[:,:2].unsqueeze(0).expand(N,M,2),  # [M,2] -> [1,M,2] -> [N,M,2]\n",
    "        )"
   ]
  },
  {
   "cell_type": "code",
   "execution_count": 29,
   "id": "quick-briefing",
   "metadata": {
    "ExecuteTime": {
     "end_time": "2021-04-20T07:53:21.374590Z",
     "start_time": "2021-04-20T07:53:21.368587Z"
    }
   },
   "outputs": [
    {
     "name": "stdout",
     "output_type": "stream",
     "text": [
      "lt: torch.Size([3, 4, 2])  \n",
      "tensor([[[20., 35.],\n",
      "         [50., 65.],\n",
      "         [85., 35.],\n",
      "         [40., 30.]],\n",
      "\n",
      "        [[45., 60.],\n",
      "         [50., 65.],\n",
      "         [85., 60.],\n",
      "         [45., 60.]],\n",
      "\n",
      "        [[80., 35.],\n",
      "         [80., 65.],\n",
      "         [85., 35.],\n",
      "         [80., 30.]]])\n"
     ]
    }
   ],
   "source": [
    "print(f'lt: {lt.shape}  \\n{lt}')"
   ]
  },
  {
   "cell_type": "code",
   "execution_count": 31,
   "id": "related-glucose",
   "metadata": {
    "ExecuteTime": {
     "end_time": "2021-04-20T07:53:35.762167Z",
     "start_time": "2021-04-20T07:53:35.759740Z"
    }
   },
   "outputs": [],
   "source": [
    "rb = torch.min(\n",
    "            a[:,2:].unsqueeze(1).expand(N,M,2),  # [N,2] -> [N,1,2] -> [N,M,2]\n",
    "            b[:,2:].unsqueeze(0).expand(N,M,2),  # [M,2] -> [1,M,2] -> [N,M,2]\n",
    "        )"
   ]
  },
  {
   "cell_type": "code",
   "execution_count": 33,
   "id": "greatest-coach",
   "metadata": {
    "ExecuteTime": {
     "end_time": "2021-04-20T07:53:53.279204Z",
     "start_time": "2021-04-20T07:53:53.274854Z"
    }
   },
   "outputs": [
    {
     "name": "stdout",
     "output_type": "stream",
     "text": [
      "rb: torch.Size([3, 4, 2])  \n",
      "tensor([[[ 35.,  60.],\n",
      "         [ 35.,  60.],\n",
      "         [ 35.,  60.],\n",
      "         [ 35.,  60.]],\n",
      "\n",
      "        [[ 40.,  65.],\n",
      "         [ 80.,  90.],\n",
      "         [ 80.,  65.],\n",
      "         [ 80.,  90.]],\n",
      "\n",
      "        [[ 40.,  60.],\n",
      "         [ 85.,  60.],\n",
      "         [130.,  60.],\n",
      "         [ 90.,  60.]]])\n"
     ]
    }
   ],
   "source": [
    "print(f'rb: {rb.shape}  \\n{rb}')"
   ]
  },
  {
   "cell_type": "code",
   "execution_count": 35,
   "id": "adjustable-smooth",
   "metadata": {
    "ExecuteTime": {
     "end_time": "2021-04-20T07:55:01.811169Z",
     "start_time": "2021-04-20T07:55:01.808508Z"
    }
   },
   "outputs": [],
   "source": [
    "wh = rb - lt\n",
    "wh[wh<0] = 0\n",
    "inter = wh[:,:,0] * wh[:,:,1]"
   ]
  },
  {
   "cell_type": "code",
   "execution_count": 39,
   "id": "sound-depth",
   "metadata": {
    "ExecuteTime": {
     "end_time": "2021-04-20T08:14:17.619585Z",
     "start_time": "2021-04-20T08:14:17.605998Z"
    }
   },
   "outputs": [
    {
     "name": "stdout",
     "output_type": "stream",
     "text": [
      "wh: torch.Size([3, 4, 2])  \n",
      "tensor([[[15., 25.],\n",
      "         [ 0.,  0.],\n",
      "         [ 0., 25.],\n",
      "         [ 0., 30.]],\n",
      "\n",
      "        [[ 0.,  5.],\n",
      "         [30., 25.],\n",
      "         [ 0.,  5.],\n",
      "         [35., 30.]],\n",
      "\n",
      "        [[ 0., 25.],\n",
      "         [ 5.,  0.],\n",
      "         [45., 25.],\n",
      "         [10., 30.]]])\n",
      "inter: torch.Size([3, 4])\n",
      "tensor([[ 375.,    0.,    0.,    0.],\n",
      "        [   0.,  750.,    0., 1050.],\n",
      "        [   0.,    0., 1125.,  300.]])\n"
     ]
    }
   ],
   "source": [
    "print(f'wh: {wh.shape}  \\n{wh}')\n",
    "print(f'inter: {inter.shape}\\n{inter}')"
   ]
  },
  {
   "cell_type": "code",
   "execution_count": 49,
   "id": "casual-tobago",
   "metadata": {
    "ExecuteTime": {
     "end_time": "2021-04-21T03:31:34.466890Z",
     "start_time": "2021-04-21T03:31:34.456501Z"
    }
   },
   "outputs": [
    {
     "name": "stdout",
     "output_type": "stream",
     "text": [
      "t: torch.Size([2, 3, 3, 13]) ==> tensor([[[[0.0142, 0.6487, 0.8223, 0.0865, 0.0068, 0.7607, 0.5388, 0.8554,\n",
      "           0.4692, 0.5194, 0.6740, 0.4772, 0.9846],\n",
      "          [0.3054, 0.3681, 0.7621, 0.3527, 0.2314, 0.2982, 0.9511, 0.8857,\n",
      "           0.3697, 0.7207, 0.1754, 0.5587, 0.2369],\n",
      "          [0.7427, 0.7215, 0.1949, 0.5010, 0.8407, 0.3675, 0.1254, 0.0957,\n",
      "           0.0338, 0.2282, 0.7233, 0.7697, 0.2346]],\n",
      "\n",
      "         [[0.8093, 0.9766, 0.6986, 0.3984, 0.0211, 0.2573, 0.9001, 0.7341,\n",
      "           0.3550, 0.9697, 0.5084, 0.1522, 0.7065],\n",
      "          [0.2417, 0.7319, 0.8172, 0.2695, 0.9654, 0.4244, 0.3202, 0.1076,\n",
      "           0.6786, 0.6310, 0.0896, 0.0902, 0.0446],\n",
      "          [0.1099, 0.8060, 0.2141, 0.4848, 0.7928, 0.8498, 0.8069, 0.0230,\n",
      "           0.0264, 0.8124, 0.2917, 0.3929, 0.1176]],\n",
      "\n",
      "         [[0.2192, 0.0056, 0.9860, 0.0818, 0.3917, 0.0624, 0.1066, 0.9855,\n",
      "           0.0852, 0.0169, 0.0220, 0.6070, 0.0815],\n",
      "          [0.7803, 0.3832, 0.4781, 0.7438, 0.9811, 0.5569, 0.0873, 0.7547,\n",
      "           0.6603, 0.3127, 0.1192, 0.6385, 0.2304],\n",
      "          [0.7184, 0.1523, 0.8902, 0.9766, 0.1343, 0.2683, 0.5944, 0.2389,\n",
      "           0.2820, 0.8304, 0.7917, 0.8143, 0.1590]]],\n",
      "\n",
      "\n",
      "        [[[0.9613, 0.2562, 0.3177, 0.8991, 0.1067, 0.2073, 0.0918, 0.9733,\n",
      "           0.9607, 0.2890, 0.7911, 0.9023, 0.3293],\n",
      "          [0.9810, 0.1866, 0.5563, 0.6895, 0.0117, 0.8298, 0.4550, 0.7169,\n",
      "           0.5536, 0.3882, 0.0894, 0.3930, 0.1428],\n",
      "          [0.7423, 0.3074, 0.9571, 0.6756, 0.6528, 0.3940, 0.8783, 0.9134,\n",
      "           0.4076, 0.5169, 0.4429, 0.8697, 0.8244]],\n",
      "\n",
      "         [[0.4916, 0.8663, 0.1618, 0.6703, 0.5954, 0.5342, 0.9010, 0.1785,\n",
      "           0.3027, 0.5272, 0.2802, 0.7303, 0.1519],\n",
      "          [0.5532, 0.1407, 0.4666, 0.6032, 0.0846, 0.3888, 0.8096, 0.1221,\n",
      "           0.0607, 0.9768, 0.1914, 0.7372, 0.5091],\n",
      "          [0.9188, 0.8593, 0.9611, 0.9314, 0.6759, 0.8062, 0.0113, 0.6881,\n",
      "           0.5865, 0.7684, 0.3569, 0.1780, 0.0420]],\n",
      "\n",
      "         [[0.7070, 0.1191, 0.6386, 0.4502, 0.6856, 0.0098, 0.3512, 0.6847,\n",
      "           0.3186, 0.0249, 0.5098, 0.7409, 0.7464],\n",
      "          [0.9143, 0.3277, 0.8751, 0.0284, 0.8370, 0.0839, 0.7827, 0.6968,\n",
      "           0.2455, 0.6663, 0.7392, 0.5921, 0.4170],\n",
      "          [0.6979, 0.5017, 0.7680, 0.6805, 0.8345, 0.7749, 0.3842, 0.4558,\n",
      "           0.3891, 0.2189, 0.3088, 0.1971, 0.7487]]]])\n",
      "p: torch.Size([2, 3, 3, 13]) ==> tensor([[[[0.6821, 0.8096, 0.2334, 0.2694, 0.6263, 0.4492, 0.3349, 0.5238,\n",
      "           0.0403, 0.3945, 0.4435, 0.3951, 0.2957],\n",
      "          [0.8831, 0.6839, 0.0543, 0.0765, 0.3837, 0.1803, 0.0225, 0.0779,\n",
      "           0.2356, 0.8865, 0.5297, 0.1369, 0.4127],\n",
      "          [0.3672, 0.4631, 0.7041, 0.1787, 0.5035, 0.9444, 0.8160, 0.3003,\n",
      "           0.7540, 0.6553, 0.2573, 0.7247, 0.0032]],\n",
      "\n",
      "         [[0.7370, 0.7721, 0.8958, 0.8983, 0.1525, 0.6504, 0.1161, 0.4367,\n",
      "           0.6291, 0.4282, 0.2280, 0.5798, 0.7132],\n",
      "          [0.7228, 0.0562, 0.7192, 0.5222, 0.0534, 0.9966, 0.5356, 0.9573,\n",
      "           0.0212, 0.6901, 0.4043, 0.6250, 0.8134],\n",
      "          [0.6573, 0.9688, 0.6647, 0.2688, 0.2750, 0.7268, 0.4568, 0.5151,\n",
      "           0.1295, 0.1362, 0.4274, 0.2027, 0.7619]],\n",
      "\n",
      "         [[0.7468, 0.4228, 0.4436, 0.8428, 0.4595, 0.1430, 0.1382, 0.3396,\n",
      "           0.7231, 0.9025, 0.6301, 0.1712, 0.6537],\n",
      "          [0.0678, 0.2453, 0.7064, 0.3833, 0.9930, 0.2430, 0.8534, 0.6122,\n",
      "           0.0255, 0.7672, 0.2824, 0.3770, 0.7820],\n",
      "          [0.2513, 0.2826, 0.7433, 0.0642, 0.7265, 0.9920, 0.8762, 0.9628,\n",
      "           0.2441, 0.3941, 0.1427, 0.1253, 0.2547]]],\n",
      "\n",
      "\n",
      "        [[[0.3626, 0.3189, 0.7610, 0.8774, 0.2357, 0.2860, 0.1230, 0.0374,\n",
      "           0.7444, 0.0735, 0.2321, 0.0313, 0.0525],\n",
      "          [0.9616, 0.4397, 0.9815, 0.9536, 0.7013, 0.4250, 0.0389, 0.6209,\n",
      "           0.2619, 0.0085, 0.8209, 0.0921, 0.0705],\n",
      "          [0.7032, 0.9772, 0.1520, 0.7809, 0.8358, 0.2991, 0.3846, 0.6861,\n",
      "           0.0809, 0.4277, 0.1823, 0.4102, 0.8249]],\n",
      "\n",
      "         [[0.3225, 0.0985, 0.1418, 0.8977, 0.1755, 0.8251, 0.8205, 0.4059,\n",
      "           0.1946, 0.5324, 0.7360, 0.3100, 0.0326],\n",
      "          [0.4706, 0.1345, 0.7520, 0.4354, 0.5909, 0.7040, 0.5342, 0.6167,\n",
      "           0.0553, 0.9662, 0.6157, 0.0826, 0.0487],\n",
      "          [0.6622, 0.1264, 0.3618, 0.5152, 0.4577, 0.4853, 0.9754, 0.6422,\n",
      "           0.2034, 0.2482, 0.5246, 0.1962, 0.1866]],\n",
      "\n",
      "         [[0.9590, 0.9979, 0.9181, 0.6345, 0.0794, 0.2536, 0.7313, 0.0816,\n",
      "           0.1497, 0.8035, 0.5806, 0.7070, 0.3219],\n",
      "          [0.0695, 0.2843, 0.9876, 0.5366, 0.4788, 0.0155, 0.8700, 0.0371,\n",
      "           0.0648, 0.2130, 0.3673, 0.7431, 0.1103],\n",
      "          [0.8414, 0.3474, 0.2444, 0.9104, 0.2577, 0.4703, 0.0588, 0.4016,\n",
      "           0.0376, 0.8637, 0.0758, 0.3033, 0.8823]]]])\n",
      "t: torch.Size([2, 3, 3, 13]) ==> tensor([[[[0.0142, 0.6487, 0.8223, 0.0865, 0.0000, 0.7607, 0.5388, 0.8554,\n",
      "           0.4692, 1.0000, 0.6740, 0.4772, 0.9846],\n",
      "          [0.3054, 0.3681, 0.7621, 0.3527, 0.0000, 0.2982, 0.9511, 0.8857,\n",
      "           0.3697, 1.0000, 0.1754, 0.5587, 0.2369],\n",
      "          [0.7427, 0.7215, 0.1949, 0.5010, 1.0000, 0.3675, 0.1254, 0.0957,\n",
      "           0.0338, 1.0000, 0.7233, 0.7697, 0.2346]],\n",
      "\n",
      "         [[0.8093, 0.9766, 0.6986, 0.3984, 1.0000, 0.2573, 0.9001, 0.7341,\n",
      "           0.3550, 0.0000, 0.5084, 0.1522, 0.7065],\n",
      "          [0.2417, 0.7319, 0.8172, 0.2695, 0.0000, 0.4244, 0.3202, 0.1076,\n",
      "           0.6786, 0.0000, 0.0896, 0.0902, 0.0446],\n",
      "          [0.1099, 0.8060, 0.2141, 0.4848, 1.0000, 0.8498, 0.8069, 0.0230,\n",
      "           0.0264, 1.0000, 0.2917, 0.3929, 0.1176]],\n",
      "\n",
      "         [[0.2192, 0.0056, 0.9860, 0.0818, 0.0000, 0.0624, 0.1066, 0.9855,\n",
      "           0.0852, 0.0000, 0.0220, 0.6070, 0.0815],\n",
      "          [0.7803, 0.3832, 0.4781, 0.7438, 1.0000, 0.5569, 0.0873, 0.7547,\n",
      "           0.6603, 1.0000, 0.1192, 0.6385, 0.2304],\n",
      "          [0.7184, 0.1523, 0.8902, 0.9766, 1.0000, 0.2683, 0.5944, 0.2389,\n",
      "           0.2820, 1.0000, 0.7917, 0.8143, 0.1590]]],\n",
      "\n",
      "\n",
      "        [[[0.9613, 0.2562, 0.3177, 0.8991, 0.0000, 0.2073, 0.0918, 0.9733,\n",
      "           0.9607, 0.0000, 0.7911, 0.9023, 0.3293],\n",
      "          [0.9810, 0.1866, 0.5563, 0.6895, 1.0000, 0.8298, 0.4550, 0.7169,\n",
      "           0.5536, 1.0000, 0.0894, 0.3930, 0.1428],\n",
      "          [0.7423, 0.3074, 0.9571, 0.6756, 0.0000, 0.3940, 0.8783, 0.9134,\n",
      "           0.4076, 1.0000, 0.4429, 0.8697, 0.8244]],\n",
      "\n",
      "         [[0.4916, 0.8663, 0.1618, 0.6703, 0.0000, 0.5342, 0.9010, 0.1785,\n",
      "           0.3027, 0.0000, 0.2802, 0.7303, 0.1519],\n",
      "          [0.5532, 0.1407, 0.4666, 0.6032, 1.0000, 0.3888, 0.8096, 0.1221,\n",
      "           0.0607, 0.0000, 0.1914, 0.7372, 0.5091],\n",
      "          [0.9188, 0.8593, 0.9611, 0.9314, 0.0000, 0.8062, 0.0113, 0.6881,\n",
      "           0.5865, 1.0000, 0.3569, 0.1780, 0.0420]],\n",
      "\n",
      "         [[0.7070, 0.1191, 0.6386, 0.4502, 0.0000, 0.0098, 0.3512, 0.6847,\n",
      "           0.3186, 1.0000, 0.5098, 0.7409, 0.7464],\n",
      "          [0.9143, 0.3277, 0.8751, 0.0284, 1.0000, 0.0839, 0.7827, 0.6968,\n",
      "           0.2455, 1.0000, 0.7392, 0.5921, 0.4170],\n",
      "          [0.6979, 0.5017, 0.7680, 0.6805, 1.0000, 0.7749, 0.3842, 0.4558,\n",
      "           0.3891, 1.0000, 0.3088, 0.1971, 0.7487]]]])\n"
     ]
    }
   ],
   "source": [
    "BS = 2\n",
    "B = 2\n",
    "S = 3\n",
    "C = 3\n",
    "t = torch.rand((BS,S,S,C+B*5))\n",
    "p = torch.rand((BS,S,S,C+B*5))\n",
    "print(f't: {t.shape} ==> {t}')\n",
    "print(f'p: {p.shape} ==> {p}')\n",
    "t[:, :, :, 4] = torch.randint(low=0,high=2,size=(BS,S,S))\n",
    "t[:, :, :, 9] = torch.randint(low=0,high=2,size=(BS,S,S))\n",
    "print(f't: {t.shape} ==> {t}')"
   ]
  },
  {
   "cell_type": "code",
   "execution_count": 51,
   "id": "hindu-measurement",
   "metadata": {
    "ExecuteTime": {
     "end_time": "2021-04-21T03:33:54.044822Z",
     "start_time": "2021-04-21T03:33:54.015802Z"
    }
   },
   "outputs": [
    {
     "name": "stdout",
     "output_type": "stream",
     "text": [
      "N=2\n",
      "coo_mask: torch.Size([2, 3, 3]) --> tensor([[[False, False,  True],\n",
      "         [ True, False,  True],\n",
      "         [False,  True,  True]],\n",
      "\n",
      "        [[False,  True, False],\n",
      "         [False,  True, False],\n",
      "         [False,  True,  True]]])\n",
      "noo_mask: torch.Size([2, 3, 3]) --> tensor([[[ True,  True, False],\n",
      "         [False,  True, False],\n",
      "         [ True, False, False]],\n",
      "\n",
      "        [[ True, False,  True],\n",
      "         [ True, False,  True],\n",
      "         [ True, False, False]]])\n",
      "coo_mask: torch.Size([2, 3, 3, 13]) ==> tensor([[[[False, False, False, False, False, False, False, False, False, False,\n",
      "           False, False, False],\n",
      "          [False, False, False, False, False, False, False, False, False, False,\n",
      "           False, False, False],\n",
      "          [ True,  True,  True,  True,  True,  True,  True,  True,  True,  True,\n",
      "            True,  True,  True]],\n",
      "\n",
      "         [[ True,  True,  True,  True,  True,  True,  True,  True,  True,  True,\n",
      "            True,  True,  True],\n",
      "          [False, False, False, False, False, False, False, False, False, False,\n",
      "           False, False, False],\n",
      "          [ True,  True,  True,  True,  True,  True,  True,  True,  True,  True,\n",
      "            True,  True,  True]],\n",
      "\n",
      "         [[False, False, False, False, False, False, False, False, False, False,\n",
      "           False, False, False],\n",
      "          [ True,  True,  True,  True,  True,  True,  True,  True,  True,  True,\n",
      "            True,  True,  True],\n",
      "          [ True,  True,  True,  True,  True,  True,  True,  True,  True,  True,\n",
      "            True,  True,  True]]],\n",
      "\n",
      "\n",
      "        [[[False, False, False, False, False, False, False, False, False, False,\n",
      "           False, False, False],\n",
      "          [ True,  True,  True,  True,  True,  True,  True,  True,  True,  True,\n",
      "            True,  True,  True],\n",
      "          [False, False, False, False, False, False, False, False, False, False,\n",
      "           False, False, False]],\n",
      "\n",
      "         [[False, False, False, False, False, False, False, False, False, False,\n",
      "           False, False, False],\n",
      "          [ True,  True,  True,  True,  True,  True,  True,  True,  True,  True,\n",
      "            True,  True,  True],\n",
      "          [False, False, False, False, False, False, False, False, False, False,\n",
      "           False, False, False]],\n",
      "\n",
      "         [[False, False, False, False, False, False, False, False, False, False,\n",
      "           False, False, False],\n",
      "          [ True,  True,  True,  True,  True,  True,  True,  True,  True,  True,\n",
      "            True,  True,  True],\n",
      "          [ True,  True,  True,  True,  True,  True,  True,  True,  True,  True,\n",
      "            True,  True,  True]]]])\n",
      "noo_mask: torch.Size([2, 3, 3, 13]) ==> tensor([[[[ True,  True,  True,  True,  True,  True,  True,  True,  True,  True,\n",
      "            True,  True,  True],\n",
      "          [ True,  True,  True,  True,  True,  True,  True,  True,  True,  True,\n",
      "            True,  True,  True],\n",
      "          [False, False, False, False, False, False, False, False, False, False,\n",
      "           False, False, False]],\n",
      "\n",
      "         [[False, False, False, False, False, False, False, False, False, False,\n",
      "           False, False, False],\n",
      "          [ True,  True,  True,  True,  True,  True,  True,  True,  True,  True,\n",
      "            True,  True,  True],\n",
      "          [False, False, False, False, False, False, False, False, False, False,\n",
      "           False, False, False]],\n",
      "\n",
      "         [[ True,  True,  True,  True,  True,  True,  True,  True,  True,  True,\n",
      "            True,  True,  True],\n",
      "          [False, False, False, False, False, False, False, False, False, False,\n",
      "           False, False, False],\n",
      "          [False, False, False, False, False, False, False, False, False, False,\n",
      "           False, False, False]]],\n",
      "\n",
      "\n",
      "        [[[ True,  True,  True,  True,  True,  True,  True,  True,  True,  True,\n",
      "            True,  True,  True],\n",
      "          [False, False, False, False, False, False, False, False, False, False,\n",
      "           False, False, False],\n",
      "          [ True,  True,  True,  True,  True,  True,  True,  True,  True,  True,\n",
      "            True,  True,  True]],\n",
      "\n",
      "         [[ True,  True,  True,  True,  True,  True,  True,  True,  True,  True,\n",
      "            True,  True,  True],\n",
      "          [False, False, False, False, False, False, False, False, False, False,\n",
      "           False, False, False],\n",
      "          [ True,  True,  True,  True,  True,  True,  True,  True,  True,  True,\n",
      "            True,  True,  True]],\n",
      "\n",
      "         [[ True,  True,  True,  True,  True,  True,  True,  True,  True,  True,\n",
      "            True,  True,  True],\n",
      "          [False, False, False, False, False, False, False, False, False, False,\n",
      "           False, False, False],\n",
      "          [False, False, False, False, False, False, False, False, False, False,\n",
      "           False, False, False]]]])\n"
     ]
    }
   ],
   "source": [
    "## 获取BatchSize\n",
    "N = p.size()[0]\n",
    "print(f'N={N}')\n",
    "## 包含目标的mask为c>0\n",
    "coo_mask = t[:,:,:,4] > 0  # (B, S, S)\n",
    "## 不包含目标的mask为c=0\n",
    "noo_mask = t[:,:,:,4] == 0  # (B, S, S)\n",
    "print(f'coo_mask: {coo_mask.shape} --> {coo_mask}')\n",
    "print(f'noo_mask: {noo_mask.shape} --> {noo_mask}')\n",
    "## 将mask进行扩展，方便后续计算\n",
    "coo_mask = coo_mask.unsqueeze(-1).expand_as(t)  # (B, S, S, 30)\n",
    "noo_mask = noo_mask.unsqueeze(-1).expand_as(t)  # (B, S, S, 30)\n",
    "print(f'coo_mask: {coo_mask.shape} ==> {coo_mask}')\n",
    "print(f'noo_mask: {noo_mask.shape} ==> {noo_mask}')"
   ]
  },
  {
   "cell_type": "code",
   "execution_count": 70,
   "id": "atlantic-soccer",
   "metadata": {
    "ExecuteTime": {
     "end_time": "2021-04-21T03:50:50.573127Z",
     "start_time": "2021-04-21T03:50:50.563095Z"
    }
   },
   "outputs": [
    {
     "name": "stdout",
     "output_type": "stream",
     "text": [
      "coo_pred: torch.Size([9, 13]) ==> tensor([[0.3672, 0.4631, 0.7041, 0.1787, 0.5035, 0.9444, 0.8160, 0.3003, 0.7540,\n",
      "         0.6553, 0.2573, 0.7247, 0.0032],\n",
      "        [0.7370, 0.7721, 0.8958, 0.8983, 0.1525, 0.6504, 0.1161, 0.4367, 0.6291,\n",
      "         0.4282, 0.2280, 0.5798, 0.7132],\n",
      "        [0.6573, 0.9688, 0.6647, 0.2688, 0.2750, 0.7268, 0.4568, 0.5151, 0.1295,\n",
      "         0.1362, 0.4274, 0.2027, 0.7619],\n",
      "        [0.0678, 0.2453, 0.7064, 0.3833, 0.9930, 0.2430, 0.8534, 0.6122, 0.0255,\n",
      "         0.7672, 0.2824, 0.3770, 0.7820],\n",
      "        [0.2513, 0.2826, 0.7433, 0.0642, 0.7265, 0.9920, 0.8762, 0.9628, 0.2441,\n",
      "         0.3941, 0.1427, 0.1253, 0.2547],\n",
      "        [0.9616, 0.4397, 0.9815, 0.9536, 0.7013, 0.4250, 0.0389, 0.6209, 0.2619,\n",
      "         0.0085, 0.8209, 0.0921, 0.0705],\n",
      "        [0.4706, 0.1345, 0.7520, 0.4354, 0.5909, 0.7040, 0.5342, 0.6167, 0.0553,\n",
      "         0.9662, 0.6157, 0.0826, 0.0487],\n",
      "        [0.0695, 0.2843, 0.9876, 0.5366, 0.4788, 0.0155, 0.8700, 0.0371, 0.0648,\n",
      "         0.2130, 0.3673, 0.7431, 0.1103],\n",
      "        [0.8414, 0.3474, 0.2444, 0.9104, 0.2577, 0.4703, 0.0588, 0.4016, 0.0376,\n",
      "         0.8637, 0.0758, 0.3033, 0.8823]])  \n",
      "####  p: torch.Size([2, 3, 3, 13])  coo_mask: torch.Size([2, 3, 3, 13])  p[coo_mask]: torch.Size([117])  ==>  tensor([0.3672, 0.4631, 0.7041, 0.1787, 0.5035, 0.9444, 0.8160, 0.3003, 0.7540,\n",
      "        0.6553, 0.2573, 0.7247, 0.0032, 0.7370, 0.7721, 0.8958, 0.8983, 0.1525,\n",
      "        0.6504, 0.1161, 0.4367, 0.6291, 0.4282, 0.2280, 0.5798, 0.7132, 0.6573,\n",
      "        0.9688, 0.6647, 0.2688, 0.2750, 0.7268, 0.4568, 0.5151, 0.1295, 0.1362,\n",
      "        0.4274, 0.2027, 0.7619, 0.0678, 0.2453, 0.7064, 0.3833, 0.9930, 0.2430,\n",
      "        0.8534, 0.6122, 0.0255, 0.7672, 0.2824, 0.3770, 0.7820, 0.2513, 0.2826,\n",
      "        0.7433, 0.0642, 0.7265, 0.9920, 0.8762, 0.9628, 0.2441, 0.3941, 0.1427,\n",
      "        0.1253, 0.2547, 0.9616, 0.4397, 0.9815, 0.9536, 0.7013, 0.4250, 0.0389,\n",
      "        0.6209, 0.2619, 0.0085, 0.8209, 0.0921, 0.0705, 0.4706, 0.1345, 0.7520,\n",
      "        0.4354, 0.5909, 0.7040, 0.5342, 0.6167, 0.0553, 0.9662, 0.6157, 0.0826,\n",
      "        0.0487, 0.0695, 0.2843, 0.9876, 0.5366, 0.4788, 0.0155, 0.8700, 0.0371,\n",
      "        0.0648, 0.2130, 0.3673, 0.7431, 0.1103, 0.8414, 0.3474, 0.2444, 0.9104,\n",
      "        0.2577, 0.4703, 0.0588, 0.4016, 0.0376, 0.8637, 0.0758, 0.3033, 0.8823])\n",
      "coo_mask: torch.Size([2, 3, 3, 13])\n",
      "box_pred: torch.Size([18, 5]) ==> tensor([[0.3672, 0.4631, 0.7041, 0.1787, 0.5035],\n",
      "        [0.9444, 0.8160, 0.3003, 0.7540, 0.6553],\n",
      "        [0.7370, 0.7721, 0.8958, 0.8983, 0.1525],\n",
      "        [0.6504, 0.1161, 0.4367, 0.6291, 0.4282],\n",
      "        [0.6573, 0.9688, 0.6647, 0.2688, 0.2750],\n",
      "        [0.7268, 0.4568, 0.5151, 0.1295, 0.1362],\n",
      "        [0.0678, 0.2453, 0.7064, 0.3833, 0.9930],\n",
      "        [0.2430, 0.8534, 0.6122, 0.0255, 0.7672],\n",
      "        [0.2513, 0.2826, 0.7433, 0.0642, 0.7265],\n",
      "        [0.9920, 0.8762, 0.9628, 0.2441, 0.3941],\n",
      "        [0.9616, 0.4397, 0.9815, 0.9536, 0.7013],\n",
      "        [0.4250, 0.0389, 0.6209, 0.2619, 0.0085],\n",
      "        [0.4706, 0.1345, 0.7520, 0.4354, 0.5909],\n",
      "        [0.7040, 0.5342, 0.6167, 0.0553, 0.9662],\n",
      "        [0.0695, 0.2843, 0.9876, 0.5366, 0.4788],\n",
      "        [0.0155, 0.8700, 0.0371, 0.0648, 0.2130],\n",
      "        [0.8414, 0.3474, 0.2444, 0.9104, 0.2577],\n",
      "        [0.4703, 0.0588, 0.4016, 0.0376, 0.8637]])\n",
      "class_pred: torch.Size([9, 3]) ==> tensor([[0.2573, 0.7247, 0.0032],\n",
      "        [0.2280, 0.5798, 0.7132],\n",
      "        [0.4274, 0.2027, 0.7619],\n",
      "        [0.2824, 0.3770, 0.7820],\n",
      "        [0.1427, 0.1253, 0.2547],\n",
      "        [0.8209, 0.0921, 0.0705],\n",
      "        [0.6157, 0.0826, 0.0487],\n",
      "        [0.3673, 0.7431, 0.1103],\n",
      "        [0.0758, 0.3033, 0.8823]])\n"
     ]
    }
   ],
   "source": [
    "coo_pred = p[coo_mask].view(-1,B*5+C)\n",
    "print(f'coo_pred: {coo_pred.shape} ==> {coo_pred}  \\n####  p: {p.shape}  coo_mask: {coo_mask.shape}  p[coo_mask]: {p[coo_mask].shape}  ==>  {p[coo_mask]}')\n",
    "print(f'coo_mask: {coo_mask.shape}')\n",
    "box_pred = coo_pred[:,:10].contiguous().view(-1,5) #box[x1,y1,w1,h1,c1]\n",
    "print(f'box_pred: {box_pred.shape} ==> {box_pred}')\n",
    "class_pred = coo_pred[:,10:]                       #[x2,y2,w2,h2,c2]\n",
    "print(f'class_pred: {class_pred.shape} ==> {class_pred}')"
   ]
  },
  {
   "cell_type": "markdown",
   "id": "warming-generator",
   "metadata": {
    "ExecuteTime": {
     "end_time": "2021-04-21T03:52:08.894504Z",
     "start_time": "2021-04-21T03:52:08.888034Z"
    }
   },
   "source": [
    "## 一维情况"
   ]
  },
  {
   "cell_type": "code",
   "execution_count": 75,
   "id": "urban-adapter",
   "metadata": {
    "ExecuteTime": {
     "end_time": "2021-04-21T06:29:28.276847Z",
     "start_time": "2021-04-21T06:29:28.270665Z"
    }
   },
   "outputs": [
    {
     "name": "stdout",
     "output_type": "stream",
     "text": [
      "a: torch.Size([3, 4]) ==>  tensor([[0.4874, 0.4704, 0.0943, 0.6142],\n",
      "        [0.9262, 0.2904, 0.8206, 0.9108],\n",
      "        [0.0666, 0.1524, 0.9666, 0.8745]])\n"
     ]
    }
   ],
   "source": [
    "a = torch.rand(size=(3,4))\n",
    "print(f'a: {a.shape} ==>  {a}')"
   ]
  },
  {
   "cell_type": "code",
   "execution_count": 77,
   "id": "boolean-appreciation",
   "metadata": {
    "ExecuteTime": {
     "end_time": "2021-04-21T06:31:43.281545Z",
     "start_time": "2021-04-21T06:31:43.273355Z"
    }
   },
   "outputs": [
    {
     "name": "stdout",
     "output_type": "stream",
     "text": [
      "am: torch.Size([3])  ==>  tensor([False,  True, False])\n",
      "ame: torch.Size([3, 4])  ==>  tensor([[False, False, False, False],\n",
      "        [ True,  True,  True,  True],\n",
      "        [False, False, False, False]])\n"
     ]
    }
   ],
   "source": [
    "am = a[:, 0] > 0.5\n",
    "print(f'am: {am.shape}  ==>  {am}')\n",
    "ame = am.unsqueeze(-1).expand_as(a)\n",
    "print(f'ame: {ame.shape}  ==>  {ame}')"
   ]
  },
  {
   "cell_type": "code",
   "execution_count": 78,
   "id": "narrative-change",
   "metadata": {
    "ExecuteTime": {
     "end_time": "2021-04-21T06:32:19.176426Z",
     "start_time": "2021-04-21T06:32:19.171550Z"
    }
   },
   "outputs": [
    {
     "name": "stdout",
     "output_type": "stream",
     "text": [
      "sa: torch.Size([4])  ==>  tensor([0.9262, 0.2904, 0.8206, 0.9108])\n",
      "sar: torch.Size([1, 4])  ==>  tensor([[0.9262, 0.2904, 0.8206, 0.9108]])\n"
     ]
    }
   ],
   "source": [
    "sa = a[ame]\n",
    "print(f'sa: {sa.shape}  ==>  {sa}')\n",
    "sar = sa.view(-1, 4)\n",
    "print(f'sar: {sar.shape}  ==>  {sar}')"
   ]
  },
  {
   "cell_type": "markdown",
   "id": "running-election",
   "metadata": {},
   "source": [
    "## 二维情况"
   ]
  },
  {
   "cell_type": "code",
   "execution_count": 85,
   "id": "duplicate-banner",
   "metadata": {
    "ExecuteTime": {
     "end_time": "2021-04-21T06:40:51.513274Z",
     "start_time": "2021-04-21T06:40:51.510160Z"
    }
   },
   "outputs": [
    {
     "name": "stdout",
     "output_type": "stream",
     "text": [
      "a: torch.Size([2, 3, 4]) ==>  tensor([[[0.0283, 0.6794, 0.1640, 0.2961],\n",
      "         [0.1834, 0.4585, 0.5372, 0.8837],\n",
      "         [0.9593, 0.3831, 0.8692, 0.8887]],\n",
      "\n",
      "        [[0.5519, 0.9316, 0.1601, 0.2625],\n",
      "         [0.6175, 0.0365, 0.3261, 0.4983],\n",
      "         [0.8104, 0.8406, 0.7025, 0.5610]]])\n"
     ]
    }
   ],
   "source": [
    "a = torch.rand(size=(2,3,4))\n",
    "print(f'a: {a.shape} ==>  {a}')"
   ]
  },
  {
   "cell_type": "code",
   "execution_count": 86,
   "id": "treated-income",
   "metadata": {
    "ExecuteTime": {
     "end_time": "2021-04-21T06:40:51.981242Z",
     "start_time": "2021-04-21T06:40:51.968105Z"
    }
   },
   "outputs": [
    {
     "name": "stdout",
     "output_type": "stream",
     "text": [
      "am: torch.Size([2, 3])  ==>  tensor([[False, False,  True],\n",
      "        [ True,  True,  True]])\n",
      "ame: torch.Size([2, 3, 4])  ==>  tensor([[[False, False, False, False],\n",
      "         [False, False, False, False],\n",
      "         [ True,  True,  True,  True]],\n",
      "\n",
      "        [[ True,  True,  True,  True],\n",
      "         [ True,  True,  True,  True],\n",
      "         [ True,  True,  True,  True]]])\n"
     ]
    }
   ],
   "source": [
    "am = a[:, :, 0] > 0.5\n",
    "print(f'am: {am.shape}  ==>  {am}')\n",
    "ame = am.unsqueeze(-1).expand_as(a)\n",
    "print(f'ame: {ame.shape}  ==>  {ame}')"
   ]
  },
  {
   "cell_type": "code",
   "execution_count": 87,
   "id": "lesser-tissue",
   "metadata": {
    "ExecuteTime": {
     "end_time": "2021-04-21T06:40:53.103302Z",
     "start_time": "2021-04-21T06:40:53.099458Z"
    }
   },
   "outputs": [
    {
     "name": "stdout",
     "output_type": "stream",
     "text": [
      "sa: torch.Size([16])  ==>  tensor([0.9593, 0.3831, 0.8692, 0.8887, 0.5519, 0.9316, 0.1601, 0.2625, 0.6175,\n",
      "        0.0365, 0.3261, 0.4983, 0.8104, 0.8406, 0.7025, 0.5610])\n",
      "sar: torch.Size([4, 4])  ==>  tensor([[0.9593, 0.3831, 0.8692, 0.8887],\n",
      "        [0.5519, 0.9316, 0.1601, 0.2625],\n",
      "        [0.6175, 0.0365, 0.3261, 0.4983],\n",
      "        [0.8104, 0.8406, 0.7025, 0.5610]])\n"
     ]
    }
   ],
   "source": [
    "sa = a[ame]\n",
    "print(f'sa: {sa.shape}  ==>  {sa}')\n",
    "sar = sa.view(-1, 4)\n",
    "print(f'sar: {sar.shape}  ==>  {sar}')"
   ]
  },
  {
   "cell_type": "code",
   "execution_count": null,
   "id": "ambient-softball",
   "metadata": {},
   "outputs": [],
   "source": []
  }
 ],
 "metadata": {
  "kernelspec": {
   "display_name": "Python 3.7.10 64-bit ('object_tracking': conda)",
   "language": "python",
   "name": "python371064bitobjecttrackingconda66c6f2efc4d740808a4620e21504b8f3"
  },
  "language_info": {
   "codemirror_mode": {
    "name": "ipython",
    "version": 3
   },
   "file_extension": ".py",
   "mimetype": "text/x-python",
   "name": "python",
   "nbconvert_exporter": "python",
   "pygments_lexer": "ipython3",
   "version": "3.7.10"
  },
  "toc": {
   "base_numbering": 1,
   "nav_menu": {},
   "number_sections": true,
   "sideBar": true,
   "skip_h1_title": false,
   "title_cell": "Table of Contents",
   "title_sidebar": "Contents",
   "toc_cell": false,
   "toc_position": {},
   "toc_section_display": true,
   "toc_window_display": false
  },
  "varInspector": {
   "cols": {
    "lenName": 16,
    "lenType": 16,
    "lenVar": 40
   },
   "kernels_config": {
    "python": {
     "delete_cmd_postfix": "",
     "delete_cmd_prefix": "del ",
     "library": "var_list.py",
     "varRefreshCmd": "print(var_dic_list())"
    },
    "r": {
     "delete_cmd_postfix": ") ",
     "delete_cmd_prefix": "rm(",
     "library": "var_list.r",
     "varRefreshCmd": "cat(var_dic_list()) "
    }
   },
   "types_to_exclude": [
    "module",
    "function",
    "builtin_function_or_method",
    "instance",
    "_Feature"
   ],
   "window_display": false
  }
 },
 "nbformat": 4,
 "nbformat_minor": 5
}
