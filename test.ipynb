{
 "cells": [
  {
   "cell_type": "code",
   "execution_count": 1,
   "id": "roman-offer",
   "metadata": {
    "ExecuteTime": {
     "end_time": "2021-04-22T06:22:03.675866Z",
     "start_time": "2021-04-22T06:22:02.340085Z"
    }
   },
   "outputs": [],
   "source": [
    "import numpy as np\n",
    "import torch"
   ]
  },
  {
   "cell_type": "code",
   "execution_count": 2,
   "id": "gorgeous-balloon",
   "metadata": {
    "ExecuteTime": {
     "end_time": "2021-04-22T06:22:03.688129Z",
     "start_time": "2021-04-22T06:22:03.684873Z"
    }
   },
   "outputs": [],
   "source": [
    "a = torch.FloatTensor([[15, 30, 35, 60], [45, 60, 80, 90], [80, 30, 130, 60]])\n",
    "b = torch.FloatTensor([[20, 35, 40, 65], [50, 65, 85, 95], [85, 35, 135, 65], [40, 20, 90, 90]])"
   ]
  },
  {
   "cell_type": "code",
   "execution_count": 3,
   "id": "identified-testament",
   "metadata": {
    "ExecuteTime": {
     "end_time": "2021-04-22T06:22:03.710062Z",
     "start_time": "2021-04-22T06:22:03.702745Z"
    }
   },
   "outputs": [
    {
     "data": {
      "text/plain": [
       "tensor([[ 15.,  30.,  35.,  60.],\n",
       "        [ 45.,  60.,  80.,  90.],\n",
       "        [ 80.,  30., 130.,  60.]])"
      ]
     },
     "execution_count": 3,
     "metadata": {},
     "output_type": "execute_result"
    }
   ],
   "source": [
    "a"
   ]
  },
  {
   "cell_type": "code",
   "execution_count": 4,
   "id": "governing-output",
   "metadata": {
    "ExecuteTime": {
     "end_time": "2021-04-22T06:22:03.722077Z",
     "start_time": "2021-04-22T06:22:03.719229Z"
    }
   },
   "outputs": [
    {
     "data": {
      "text/plain": [
       "tensor([[ 20.,  35.,  40.,  65.],\n",
       "        [ 50.,  65.,  85.,  95.],\n",
       "        [ 85.,  35., 135.,  65.],\n",
       "        [ 40.,  20.,  90.,  90.]])"
      ]
     },
     "execution_count": 4,
     "metadata": {},
     "output_type": "execute_result"
    }
   ],
   "source": [
    "b"
   ]
  },
  {
   "cell_type": "code",
   "execution_count": 5,
   "id": "german-israel",
   "metadata": {
    "ExecuteTime": {
     "end_time": "2021-04-22T06:22:04.011709Z",
     "start_time": "2021-04-22T06:22:03.983787Z"
    }
   },
   "outputs": [
    {
     "name": "stdout",
     "output_type": "stream",
     "text": [
      "a==>tensor([[[15., 30.],\n",
      "         [15., 30.],\n",
      "         [15., 30.],\n",
      "         [15., 30.]],\n",
      "\n",
      "        [[45., 60.],\n",
      "         [45., 60.],\n",
      "         [45., 60.],\n",
      "         [45., 60.]],\n",
      "\n",
      "        [[80., 30.],\n",
      "         [80., 30.],\n",
      "         [80., 30.],\n",
      "         [80., 30.]]])\n",
      "b==>tensor([[[20., 35.],\n",
      "         [50., 65.],\n",
      "         [85., 35.],\n",
      "         [40., 20.]],\n",
      "\n",
      "        [[20., 35.],\n",
      "         [50., 65.],\n",
      "         [85., 35.],\n",
      "         [40., 20.]],\n",
      "\n",
      "        [[20., 35.],\n",
      "         [50., 65.],\n",
      "         [85., 35.],\n",
      "         [40., 20.]]])\n"
     ]
    }
   ],
   "source": [
    "N, M = a.size(0), b.size(0)\n",
    "print(f'a==>{a[:,:2].unsqueeze(1).expand(N,M,2)}')\n",
    "print(f'b==>{b[:,:2].unsqueeze(0).expand(N,M,2)}')\n",
    "lt = torch.max(\n",
    "            a[:,:2].unsqueeze(1).expand(N,M,2),  # [N,2] -> [N,1,2] -> [N,M,2]\n",
    "            b[:,:2].unsqueeze(0).expand(N,M,2),  # [M,2] -> [1,M,2] -> [N,M,2]\n",
    "        )"
   ]
  },
  {
   "cell_type": "code",
   "execution_count": 6,
   "id": "quick-briefing",
   "metadata": {
    "ExecuteTime": {
     "end_time": "2021-04-22T06:22:04.486957Z",
     "start_time": "2021-04-22T06:22:04.479621Z"
    }
   },
   "outputs": [
    {
     "name": "stdout",
     "output_type": "stream",
     "text": [
      "lt: torch.Size([3, 4, 2])  \n",
      "tensor([[[20., 35.],\n",
      "         [50., 65.],\n",
      "         [85., 35.],\n",
      "         [40., 30.]],\n",
      "\n",
      "        [[45., 60.],\n",
      "         [50., 65.],\n",
      "         [85., 60.],\n",
      "         [45., 60.]],\n",
      "\n",
      "        [[80., 35.],\n",
      "         [80., 65.],\n",
      "         [85., 35.],\n",
      "         [80., 30.]]])\n"
     ]
    }
   ],
   "source": [
    "print(f'lt: {lt.shape}  \\n{lt}')"
   ]
  },
  {
   "cell_type": "code",
   "execution_count": 7,
   "id": "related-glucose",
   "metadata": {
    "ExecuteTime": {
     "end_time": "2021-04-22T06:22:05.325354Z",
     "start_time": "2021-04-22T06:22:05.322741Z"
    }
   },
   "outputs": [],
   "source": [
    "rb = torch.min(\n",
    "            a[:,2:].unsqueeze(1).expand(N,M,2),  # [N,2] -> [N,1,2] -> [N,M,2]\n",
    "            b[:,2:].unsqueeze(0).expand(N,M,2),  # [M,2] -> [1,M,2] -> [N,M,2]\n",
    "        )"
   ]
  },
  {
   "cell_type": "code",
   "execution_count": 8,
   "id": "greatest-coach",
   "metadata": {
    "ExecuteTime": {
     "end_time": "2021-04-22T06:22:05.827777Z",
     "start_time": "2021-04-22T06:22:05.815956Z"
    }
   },
   "outputs": [
    {
     "name": "stdout",
     "output_type": "stream",
     "text": [
      "rb: torch.Size([3, 4, 2])  \n",
      "tensor([[[ 35.,  60.],\n",
      "         [ 35.,  60.],\n",
      "         [ 35.,  60.],\n",
      "         [ 35.,  60.]],\n",
      "\n",
      "        [[ 40.,  65.],\n",
      "         [ 80.,  90.],\n",
      "         [ 80.,  65.],\n",
      "         [ 80.,  90.]],\n",
      "\n",
      "        [[ 40.,  60.],\n",
      "         [ 85.,  60.],\n",
      "         [130.,  60.],\n",
      "         [ 90.,  60.]]])\n"
     ]
    }
   ],
   "source": [
    "print(f'rb: {rb.shape}  \\n{rb}')"
   ]
  },
  {
   "cell_type": "code",
   "execution_count": 9,
   "id": "adjustable-smooth",
   "metadata": {
    "ExecuteTime": {
     "end_time": "2021-04-22T06:22:06.290533Z",
     "start_time": "2021-04-22T06:22:06.271993Z"
    }
   },
   "outputs": [],
   "source": [
    "wh = rb - lt\n",
    "wh[wh<0] = 0\n",
    "inter = wh[:,:,0] * wh[:,:,1]"
   ]
  },
  {
   "cell_type": "code",
   "execution_count": 10,
   "id": "sound-depth",
   "metadata": {
    "ExecuteTime": {
     "end_time": "2021-04-22T06:22:06.883748Z",
     "start_time": "2021-04-22T06:22:06.866518Z"
    }
   },
   "outputs": [
    {
     "name": "stdout",
     "output_type": "stream",
     "text": [
      "wh: torch.Size([3, 4, 2])  \n",
      "tensor([[[15., 25.],\n",
      "         [ 0.,  0.],\n",
      "         [ 0., 25.],\n",
      "         [ 0., 30.]],\n",
      "\n",
      "        [[ 0.,  5.],\n",
      "         [30., 25.],\n",
      "         [ 0.,  5.],\n",
      "         [35., 30.]],\n",
      "\n",
      "        [[ 0., 25.],\n",
      "         [ 5.,  0.],\n",
      "         [45., 25.],\n",
      "         [10., 30.]]])\n",
      "inter: torch.Size([3, 4])\n",
      "tensor([[ 375.,    0.,    0.,    0.],\n",
      "        [   0.,  750.,    0., 1050.],\n",
      "        [   0.,    0., 1125.,  300.]])\n"
     ]
    }
   ],
   "source": [
    "print(f'wh: {wh.shape}  \\n{wh}')\n",
    "print(f'inter: {inter.shape}\\n{inter}')"
   ]
  },
  {
   "cell_type": "code",
   "execution_count": 11,
   "id": "casual-tobago",
   "metadata": {
    "ExecuteTime": {
     "end_time": "2021-04-22T06:22:07.808432Z",
     "start_time": "2021-04-22T06:22:07.761245Z"
    }
   },
   "outputs": [
    {
     "name": "stdout",
     "output_type": "stream",
     "text": [
      "t: torch.Size([2, 3, 3, 13]) ==> tensor([[[[7.7978e-01, 6.4426e-01, 3.5110e-01, 4.3198e-01, 4.9435e-01,\n",
      "           4.3631e-02, 9.3567e-02, 9.4299e-01, 4.3715e-02, 7.0556e-01,\n",
      "           3.6855e-01, 2.2914e-01, 5.2418e-01],\n",
      "          [6.3319e-01, 1.5907e-01, 2.1287e-01, 2.1802e-01, 3.0745e-01,\n",
      "           4.6236e-01, 6.7604e-01, 2.1515e-01, 2.1846e-01, 3.9510e-01,\n",
      "           9.1938e-01, 1.2212e-01, 8.9025e-01],\n",
      "          [6.3343e-01, 3.7939e-01, 8.4133e-01, 4.7545e-01, 3.6361e-01,\n",
      "           8.3286e-01, 8.1232e-01, 1.4833e-01, 2.9619e-01, 7.1316e-03,\n",
      "           2.8046e-01, 3.4709e-01, 8.6245e-01]],\n",
      "\n",
      "         [[2.3992e-01, 2.7342e-01, 4.0052e-01, 4.7182e-01, 4.4800e-01,\n",
      "           4.6089e-01, 5.7720e-01, 5.7857e-01, 6.0467e-01, 7.4585e-01,\n",
      "           5.9991e-02, 6.6310e-01, 2.0497e-01],\n",
      "          [4.2553e-01, 6.5432e-01, 5.8260e-01, 8.1460e-01, 4.7833e-01,\n",
      "           8.3818e-01, 9.2529e-01, 7.4008e-01, 1.3786e-01, 1.4399e-02,\n",
      "           4.5686e-01, 3.5274e-01, 3.7841e-01],\n",
      "          [1.3324e-01, 4.1246e-05, 7.6904e-01, 6.1905e-01, 2.1939e-01,\n",
      "           3.0819e-01, 8.2127e-01, 4.8852e-01, 3.6457e-01, 4.9905e-01,\n",
      "           5.0430e-01, 4.1777e-01, 6.0252e-01]],\n",
      "\n",
      "         [[2.6811e-01, 6.9405e-01, 5.0967e-01, 9.1114e-01, 3.8208e-01,\n",
      "           3.3820e-01, 5.3188e-01, 8.1946e-01, 3.1954e-01, 7.2695e-01,\n",
      "           2.7269e-01, 3.5719e-01, 4.2230e-01],\n",
      "          [9.9039e-01, 2.4544e-01, 2.9515e-01, 1.3607e-01, 8.7380e-01,\n",
      "           9.6161e-01, 2.1983e-01, 6.4534e-01, 8.2164e-01, 3.0896e-03,\n",
      "           9.2350e-01, 5.3605e-01, 2.1768e-01],\n",
      "          [6.0191e-01, 1.6498e-01, 2.1283e-01, 1.1265e-01, 7.6556e-04,\n",
      "           8.2098e-01, 4.2835e-01, 6.1816e-01, 9.8073e-01, 5.6209e-01,\n",
      "           7.7127e-01, 9.2858e-01, 7.2425e-01]]],\n",
      "\n",
      "\n",
      "        [[[3.4325e-01, 2.8793e-01, 4.4415e-01, 1.7644e-01, 9.8244e-01,\n",
      "           4.2341e-01, 7.2181e-01, 5.1472e-01, 9.0336e-01, 4.4936e-01,\n",
      "           4.2712e-01, 4.9622e-01, 3.3222e-01],\n",
      "          [6.6468e-02, 7.1395e-01, 1.6926e-01, 5.3325e-01, 9.8443e-02,\n",
      "           7.1821e-02, 2.9486e-01, 4.9330e-01, 8.7030e-01, 8.3777e-01,\n",
      "           5.4793e-01, 7.8893e-01, 2.2057e-01],\n",
      "          [6.2902e-01, 4.6334e-01, 7.7562e-01, 2.9886e-01, 5.0910e-01,\n",
      "           5.1939e-01, 5.2533e-01, 9.9284e-01, 8.8203e-01, 1.8324e-01,\n",
      "           1.2872e-01, 4.5189e-01, 9.0652e-02]],\n",
      "\n",
      "         [[1.4953e-01, 9.7462e-01, 6.2210e-01, 6.8180e-01, 8.7947e-01,\n",
      "           1.8217e-01, 3.9970e-01, 3.3021e-02, 5.0944e-01, 7.6533e-01,\n",
      "           4.8564e-01, 9.9430e-01, 7.6626e-01],\n",
      "          [3.4814e-02, 2.7628e-01, 9.9514e-01, 2.5186e-01, 7.9970e-02,\n",
      "           1.0027e-01, 6.9028e-01, 9.2137e-01, 4.0169e-01, 7.7256e-01,\n",
      "           7.7932e-01, 9.4176e-01, 1.7238e-01],\n",
      "          [3.1511e-01, 2.1725e-01, 3.5341e-01, 7.4665e-01, 7.2805e-01,\n",
      "           2.5438e-01, 6.6082e-01, 3.6767e-01, 4.4650e-01, 6.7223e-01,\n",
      "           5.7553e-02, 3.0950e-01, 7.4230e-01]],\n",
      "\n",
      "         [[7.0425e-01, 3.6787e-01, 1.7394e-01, 6.3980e-01, 1.6521e-01,\n",
      "           8.9245e-03, 4.3939e-01, 7.2157e-01, 2.6667e-01, 3.2069e-01,\n",
      "           3.4985e-01, 7.1512e-02, 3.7406e-01],\n",
      "          [3.1686e-01, 2.1853e-01, 6.4504e-01, 3.0520e-01, 8.5868e-01,\n",
      "           9.4442e-01, 1.2223e-01, 2.8803e-01, 1.6756e-01, 9.3285e-01,\n",
      "           4.0669e-01, 9.5724e-01, 2.0172e-01],\n",
      "          [8.5748e-01, 3.5608e-01, 3.9785e-01, 1.8946e-02, 7.8517e-01,\n",
      "           2.9091e-01, 3.3518e-01, 2.3295e-01, 3.4002e-01, 5.1857e-01,\n",
      "           4.0155e-01, 2.0088e-01, 9.6128e-01]]]])\n",
      "p: torch.Size([2, 3, 3, 13]) ==> tensor([[[[0.1056, 0.9061, 0.9296, 0.6817, 0.8719, 0.2833, 0.9155, 0.5667,\n",
      "           0.0161, 0.0549, 0.6735, 0.2769, 0.3844],\n",
      "          [0.0184, 0.4669, 0.3356, 0.6385, 0.8984, 0.7565, 0.3751, 0.6226,\n",
      "           0.9477, 0.9733, 0.7848, 0.0317, 0.7323],\n",
      "          [0.4598, 0.1544, 0.2180, 0.2971, 0.0438, 0.8640, 0.1491, 0.1471,\n",
      "           0.2197, 0.0968, 0.5433, 0.9148, 0.6907]],\n",
      "\n",
      "         [[0.5948, 0.4471, 0.1043, 0.0157, 0.0235, 0.4847, 0.2324, 0.1745,\n",
      "           0.0531, 0.0590, 0.2476, 0.8217, 0.6645],\n",
      "          [0.1689, 0.7612, 0.1988, 0.4935, 0.8151, 0.6882, 0.2303, 0.1128,\n",
      "           0.9328, 0.4384, 0.3062, 0.3334, 0.2816],\n",
      "          [0.4594, 0.6822, 0.9196, 0.8715, 0.4453, 0.1757, 0.0419, 0.1718,\n",
      "           0.8134, 0.3200, 0.9187, 0.9376, 0.0283]],\n",
      "\n",
      "         [[0.7954, 0.3341, 0.8128, 0.2978, 0.9895, 0.1952, 0.3608, 0.4143,\n",
      "           0.3978, 0.3206, 0.1971, 0.1781, 0.5855],\n",
      "          [0.7856, 0.8518, 0.5973, 0.4153, 0.8028, 0.2590, 0.9521, 0.1842,\n",
      "           0.2251, 0.9990, 0.5364, 0.1768, 0.9452],\n",
      "          [0.3077, 0.2454, 0.2870, 0.2141, 0.0299, 0.2964, 0.9706, 0.0749,\n",
      "           0.4661, 0.8007, 0.4828, 0.6219, 0.4361]]],\n",
      "\n",
      "\n",
      "        [[[0.7331, 0.3402, 0.7247, 0.1050, 0.3963, 0.3742, 0.8363, 0.7677,\n",
      "           0.5087, 0.4444, 0.8973, 0.5783, 0.7295],\n",
      "          [0.7903, 0.1554, 0.5686, 0.4053, 0.1008, 0.7826, 0.8945, 0.9568,\n",
      "           0.1120, 0.7063, 0.5755, 0.7039, 0.2134],\n",
      "          [0.3126, 0.8681, 0.8792, 0.4842, 0.7953, 0.6679, 0.9612, 0.5761,\n",
      "           0.2998, 0.8371, 0.5568, 0.9869, 0.9108]],\n",
      "\n",
      "         [[0.8458, 0.6192, 0.0385, 0.1207, 0.9584, 0.8137, 0.9626, 0.8920,\n",
      "           0.7837, 0.5395, 0.0201, 0.1677, 0.9764],\n",
      "          [0.1486, 0.1411, 0.4849, 0.7426, 0.7859, 0.0464, 0.7875, 0.5111,\n",
      "           0.5222, 0.0293, 0.1171, 0.6372, 0.5844],\n",
      "          [0.1789, 0.0879, 0.9171, 0.2181, 0.1401, 0.4251, 0.7892, 0.7196,\n",
      "           0.2931, 0.8292, 0.1941, 0.3767, 0.9191]],\n",
      "\n",
      "         [[0.9766, 0.3653, 0.7017, 0.1698, 0.7243, 0.5457, 0.5996, 0.5428,\n",
      "           0.9902, 0.1822, 0.7366, 0.0465, 0.9725],\n",
      "          [0.4750, 0.3693, 0.3638, 0.8163, 0.5296, 0.9990, 0.3916, 0.1516,\n",
      "           0.1710, 0.3354, 0.8414, 0.7333, 0.4961],\n",
      "          [0.5471, 0.6986, 0.6597, 0.0792, 0.7381, 0.9164, 0.6837, 0.8281,\n",
      "           0.6496, 0.8908, 0.2689, 0.7643, 0.2067]]]])\n",
      "t: torch.Size([2, 3, 3, 13]) ==> tensor([[[[7.7978e-01, 6.4426e-01, 3.5110e-01, 4.3198e-01, 1.0000e+00,\n",
      "           4.3631e-02, 9.3567e-02, 9.4299e-01, 4.3715e-02, 1.0000e+00,\n",
      "           3.6855e-01, 2.2914e-01, 5.2418e-01],\n",
      "          [6.3319e-01, 1.5907e-01, 2.1287e-01, 2.1802e-01, 1.0000e+00,\n",
      "           4.6236e-01, 6.7604e-01, 2.1515e-01, 2.1846e-01, 0.0000e+00,\n",
      "           9.1938e-01, 1.2212e-01, 8.9025e-01],\n",
      "          [6.3343e-01, 3.7939e-01, 8.4133e-01, 4.7545e-01, 1.0000e+00,\n",
      "           8.3286e-01, 8.1232e-01, 1.4833e-01, 2.9619e-01, 0.0000e+00,\n",
      "           2.8046e-01, 3.4709e-01, 8.6245e-01]],\n",
      "\n",
      "         [[2.3992e-01, 2.7342e-01, 4.0052e-01, 4.7182e-01, 0.0000e+00,\n",
      "           4.6089e-01, 5.7720e-01, 5.7857e-01, 6.0467e-01, 0.0000e+00,\n",
      "           5.9991e-02, 6.6310e-01, 2.0497e-01],\n",
      "          [4.2553e-01, 6.5432e-01, 5.8260e-01, 8.1460e-01, 0.0000e+00,\n",
      "           8.3818e-01, 9.2529e-01, 7.4008e-01, 1.3786e-01, 1.0000e+00,\n",
      "           4.5686e-01, 3.5274e-01, 3.7841e-01],\n",
      "          [1.3324e-01, 4.1246e-05, 7.6904e-01, 6.1905e-01, 0.0000e+00,\n",
      "           3.0819e-01, 8.2127e-01, 4.8852e-01, 3.6457e-01, 1.0000e+00,\n",
      "           5.0430e-01, 4.1777e-01, 6.0252e-01]],\n",
      "\n",
      "         [[2.6811e-01, 6.9405e-01, 5.0967e-01, 9.1114e-01, 0.0000e+00,\n",
      "           3.3820e-01, 5.3188e-01, 8.1946e-01, 3.1954e-01, 0.0000e+00,\n",
      "           2.7269e-01, 3.5719e-01, 4.2230e-01],\n",
      "          [9.9039e-01, 2.4544e-01, 2.9515e-01, 1.3607e-01, 1.0000e+00,\n",
      "           9.6161e-01, 2.1983e-01, 6.4534e-01, 8.2164e-01, 1.0000e+00,\n",
      "           9.2350e-01, 5.3605e-01, 2.1768e-01],\n",
      "          [6.0191e-01, 1.6498e-01, 2.1283e-01, 1.1265e-01, 1.0000e+00,\n",
      "           8.2098e-01, 4.2835e-01, 6.1816e-01, 9.8073e-01, 0.0000e+00,\n",
      "           7.7127e-01, 9.2858e-01, 7.2425e-01]]],\n",
      "\n",
      "\n",
      "        [[[3.4325e-01, 2.8793e-01, 4.4415e-01, 1.7644e-01, 0.0000e+00,\n",
      "           4.2341e-01, 7.2181e-01, 5.1472e-01, 9.0336e-01, 0.0000e+00,\n",
      "           4.2712e-01, 4.9622e-01, 3.3222e-01],\n",
      "          [6.6468e-02, 7.1395e-01, 1.6926e-01, 5.3325e-01, 1.0000e+00,\n",
      "           7.1821e-02, 2.9486e-01, 4.9330e-01, 8.7030e-01, 1.0000e+00,\n",
      "           5.4793e-01, 7.8893e-01, 2.2057e-01],\n",
      "          [6.2902e-01, 4.6334e-01, 7.7562e-01, 2.9886e-01, 0.0000e+00,\n",
      "           5.1939e-01, 5.2533e-01, 9.9284e-01, 8.8203e-01, 0.0000e+00,\n",
      "           1.2872e-01, 4.5189e-01, 9.0652e-02]],\n",
      "\n",
      "         [[1.4953e-01, 9.7462e-01, 6.2210e-01, 6.8180e-01, 1.0000e+00,\n",
      "           1.8217e-01, 3.9970e-01, 3.3021e-02, 5.0944e-01, 1.0000e+00,\n",
      "           4.8564e-01, 9.9430e-01, 7.6626e-01],\n",
      "          [3.4814e-02, 2.7628e-01, 9.9514e-01, 2.5186e-01, 0.0000e+00,\n",
      "           1.0027e-01, 6.9028e-01, 9.2137e-01, 4.0169e-01, 1.0000e+00,\n",
      "           7.7932e-01, 9.4176e-01, 1.7238e-01],\n",
      "          [3.1511e-01, 2.1725e-01, 3.5341e-01, 7.4665e-01, 1.0000e+00,\n",
      "           2.5438e-01, 6.6082e-01, 3.6767e-01, 4.4650e-01, 0.0000e+00,\n",
      "           5.7553e-02, 3.0950e-01, 7.4230e-01]],\n",
      "\n",
      "         [[7.0425e-01, 3.6787e-01, 1.7394e-01, 6.3980e-01, 0.0000e+00,\n",
      "           8.9245e-03, 4.3939e-01, 7.2157e-01, 2.6667e-01, 1.0000e+00,\n",
      "           3.4985e-01, 7.1512e-02, 3.7406e-01],\n",
      "          [3.1686e-01, 2.1853e-01, 6.4504e-01, 3.0520e-01, 1.0000e+00,\n",
      "           9.4442e-01, 1.2223e-01, 2.8803e-01, 1.6756e-01, 1.0000e+00,\n",
      "           4.0669e-01, 9.5724e-01, 2.0172e-01],\n",
      "          [8.5748e-01, 3.5608e-01, 3.9785e-01, 1.8946e-02, 0.0000e+00,\n",
      "           2.9091e-01, 3.3518e-01, 2.3295e-01, 3.4002e-01, 1.0000e+00,\n",
      "           4.0155e-01, 2.0088e-01, 9.6128e-01]]]])\n"
     ]
    }
   ],
   "source": [
    "BS = 2\n",
    "B = 2\n",
    "S = 3\n",
    "C = 3\n",
    "t = torch.rand((BS,S,S,C+B*5))\n",
    "p = torch.rand((BS,S,S,C+B*5))\n",
    "print(f't: {t.shape} ==> {t}')\n",
    "print(f'p: {p.shape} ==> {p}')\n",
    "t[:, :, :, 4] = torch.randint(low=0,high=2,size=(BS,S,S))\n",
    "t[:, :, :, 9] = torch.randint(low=0,high=2,size=(BS,S,S))\n",
    "print(f't: {t.shape} ==> {t}')"
   ]
  },
  {
   "cell_type": "code",
   "execution_count": 12,
   "id": "hindu-measurement",
   "metadata": {
    "ExecuteTime": {
     "end_time": "2021-04-22T06:22:08.339732Z",
     "start_time": "2021-04-22T06:22:08.312766Z"
    }
   },
   "outputs": [
    {
     "name": "stdout",
     "output_type": "stream",
     "text": [
      "N=2\n",
      "coo_mask: torch.Size([2, 3, 3]) --> tensor([[[ True,  True,  True],\n",
      "         [False, False, False],\n",
      "         [False,  True,  True]],\n",
      "\n",
      "        [[False,  True, False],\n",
      "         [ True, False,  True],\n",
      "         [False,  True, False]]])\n",
      "noo_mask: torch.Size([2, 3, 3]) --> tensor([[[False, False, False],\n",
      "         [ True,  True,  True],\n",
      "         [ True, False, False]],\n",
      "\n",
      "        [[ True, False,  True],\n",
      "         [False,  True, False],\n",
      "         [ True, False,  True]]])\n",
      "coo_mask: torch.Size([2, 3, 3, 13]) ==> tensor([[[[ True,  True,  True,  True,  True,  True,  True,  True,  True,  True,\n",
      "            True,  True,  True],\n",
      "          [ True,  True,  True,  True,  True,  True,  True,  True,  True,  True,\n",
      "            True,  True,  True],\n",
      "          [ True,  True,  True,  True,  True,  True,  True,  True,  True,  True,\n",
      "            True,  True,  True]],\n",
      "\n",
      "         [[False, False, False, False, False, False, False, False, False, False,\n",
      "           False, False, False],\n",
      "          [False, False, False, False, False, False, False, False, False, False,\n",
      "           False, False, False],\n",
      "          [False, False, False, False, False, False, False, False, False, False,\n",
      "           False, False, False]],\n",
      "\n",
      "         [[False, False, False, False, False, False, False, False, False, False,\n",
      "           False, False, False],\n",
      "          [ True,  True,  True,  True,  True,  True,  True,  True,  True,  True,\n",
      "            True,  True,  True],\n",
      "          [ True,  True,  True,  True,  True,  True,  True,  True,  True,  True,\n",
      "            True,  True,  True]]],\n",
      "\n",
      "\n",
      "        [[[False, False, False, False, False, False, False, False, False, False,\n",
      "           False, False, False],\n",
      "          [ True,  True,  True,  True,  True,  True,  True,  True,  True,  True,\n",
      "            True,  True,  True],\n",
      "          [False, False, False, False, False, False, False, False, False, False,\n",
      "           False, False, False]],\n",
      "\n",
      "         [[ True,  True,  True,  True,  True,  True,  True,  True,  True,  True,\n",
      "            True,  True,  True],\n",
      "          [False, False, False, False, False, False, False, False, False, False,\n",
      "           False, False, False],\n",
      "          [ True,  True,  True,  True,  True,  True,  True,  True,  True,  True,\n",
      "            True,  True,  True]],\n",
      "\n",
      "         [[False, False, False, False, False, False, False, False, False, False,\n",
      "           False, False, False],\n",
      "          [ True,  True,  True,  True,  True,  True,  True,  True,  True,  True,\n",
      "            True,  True,  True],\n",
      "          [False, False, False, False, False, False, False, False, False, False,\n",
      "           False, False, False]]]])\n",
      "noo_mask: torch.Size([2, 3, 3, 13]) ==> tensor([[[[False, False, False, False, False, False, False, False, False, False,\n",
      "           False, False, False],\n",
      "          [False, False, False, False, False, False, False, False, False, False,\n",
      "           False, False, False],\n",
      "          [False, False, False, False, False, False, False, False, False, False,\n",
      "           False, False, False]],\n",
      "\n",
      "         [[ True,  True,  True,  True,  True,  True,  True,  True,  True,  True,\n",
      "            True,  True,  True],\n",
      "          [ True,  True,  True,  True,  True,  True,  True,  True,  True,  True,\n",
      "            True,  True,  True],\n",
      "          [ True,  True,  True,  True,  True,  True,  True,  True,  True,  True,\n",
      "            True,  True,  True]],\n",
      "\n",
      "         [[ True,  True,  True,  True,  True,  True,  True,  True,  True,  True,\n",
      "            True,  True,  True],\n",
      "          [False, False, False, False, False, False, False, False, False, False,\n",
      "           False, False, False],\n",
      "          [False, False, False, False, False, False, False, False, False, False,\n",
      "           False, False, False]]],\n",
      "\n",
      "\n",
      "        [[[ True,  True,  True,  True,  True,  True,  True,  True,  True,  True,\n",
      "            True,  True,  True],\n",
      "          [False, False, False, False, False, False, False, False, False, False,\n",
      "           False, False, False],\n",
      "          [ True,  True,  True,  True,  True,  True,  True,  True,  True,  True,\n",
      "            True,  True,  True]],\n",
      "\n",
      "         [[False, False, False, False, False, False, False, False, False, False,\n",
      "           False, False, False],\n",
      "          [ True,  True,  True,  True,  True,  True,  True,  True,  True,  True,\n",
      "            True,  True,  True],\n",
      "          [False, False, False, False, False, False, False, False, False, False,\n",
      "           False, False, False]],\n",
      "\n",
      "         [[ True,  True,  True,  True,  True,  True,  True,  True,  True,  True,\n",
      "            True,  True,  True],\n",
      "          [False, False, False, False, False, False, False, False, False, False,\n",
      "           False, False, False],\n",
      "          [ True,  True,  True,  True,  True,  True,  True,  True,  True,  True,\n",
      "            True,  True,  True]]]])\n"
     ]
    }
   ],
   "source": [
    "## 获取BatchSize\n",
    "N = p.size()[0]\n",
    "print(f'N={N}')\n",
    "## 包含目标的mask为c>0\n",
    "coo_mask = t[:,:,:,4] > 0  # (B, S, S)\n",
    "## 不包含目标的mask为c=0\n",
    "noo_mask = t[:,:,:,4] == 0  # (B, S, S)\n",
    "print(f'coo_mask: {coo_mask.shape} --> {coo_mask}')\n",
    "print(f'noo_mask: {noo_mask.shape} --> {noo_mask}')\n",
    "## 将mask进行扩展，方便后续计算\n",
    "coo_mask = coo_mask.unsqueeze(-1).expand_as(t)  # (B, S, S, 30)\n",
    "noo_mask = noo_mask.unsqueeze(-1).expand_as(t)  # (B, S, S, 30)\n",
    "print(f'coo_mask: {coo_mask.shape} ==> {coo_mask}')\n",
    "print(f'noo_mask: {noo_mask.shape} ==> {noo_mask}')"
   ]
  },
  {
   "cell_type": "code",
   "execution_count": 13,
   "id": "atlantic-soccer",
   "metadata": {
    "ExecuteTime": {
     "end_time": "2021-04-22T06:22:09.011442Z",
     "start_time": "2021-04-22T06:22:08.983718Z"
    }
   },
   "outputs": [
    {
     "name": "stdout",
     "output_type": "stream",
     "text": [
      "coo_pred: torch.Size([9, 13]) ==> tensor([[0.1056, 0.9061, 0.9296, 0.6817, 0.8719, 0.2833, 0.9155, 0.5667, 0.0161,\n",
      "         0.0549, 0.6735, 0.2769, 0.3844],\n",
      "        [0.0184, 0.4669, 0.3356, 0.6385, 0.8984, 0.7565, 0.3751, 0.6226, 0.9477,\n",
      "         0.9733, 0.7848, 0.0317, 0.7323],\n",
      "        [0.4598, 0.1544, 0.2180, 0.2971, 0.0438, 0.8640, 0.1491, 0.1471, 0.2197,\n",
      "         0.0968, 0.5433, 0.9148, 0.6907],\n",
      "        [0.7856, 0.8518, 0.5973, 0.4153, 0.8028, 0.2590, 0.9521, 0.1842, 0.2251,\n",
      "         0.9990, 0.5364, 0.1768, 0.9452],\n",
      "        [0.3077, 0.2454, 0.2870, 0.2141, 0.0299, 0.2964, 0.9706, 0.0749, 0.4661,\n",
      "         0.8007, 0.4828, 0.6219, 0.4361],\n",
      "        [0.7903, 0.1554, 0.5686, 0.4053, 0.1008, 0.7826, 0.8945, 0.9568, 0.1120,\n",
      "         0.7063, 0.5755, 0.7039, 0.2134],\n",
      "        [0.8458, 0.6192, 0.0385, 0.1207, 0.9584, 0.8137, 0.9626, 0.8920, 0.7837,\n",
      "         0.5395, 0.0201, 0.1677, 0.9764],\n",
      "        [0.1789, 0.0879, 0.9171, 0.2181, 0.1401, 0.4251, 0.7892, 0.7196, 0.2931,\n",
      "         0.8292, 0.1941, 0.3767, 0.9191],\n",
      "        [0.4750, 0.3693, 0.3638, 0.8163, 0.5296, 0.9990, 0.3916, 0.1516, 0.1710,\n",
      "         0.3354, 0.8414, 0.7333, 0.4961]])  \n",
      "####  p: torch.Size([2, 3, 3, 13])  coo_mask: torch.Size([2, 3, 3, 13])  p[coo_mask]: torch.Size([117])  ==>  tensor([0.1056, 0.9061, 0.9296, 0.6817, 0.8719, 0.2833, 0.9155, 0.5667, 0.0161,\n",
      "        0.0549, 0.6735, 0.2769, 0.3844, 0.0184, 0.4669, 0.3356, 0.6385, 0.8984,\n",
      "        0.7565, 0.3751, 0.6226, 0.9477, 0.9733, 0.7848, 0.0317, 0.7323, 0.4598,\n",
      "        0.1544, 0.2180, 0.2971, 0.0438, 0.8640, 0.1491, 0.1471, 0.2197, 0.0968,\n",
      "        0.5433, 0.9148, 0.6907, 0.7856, 0.8518, 0.5973, 0.4153, 0.8028, 0.2590,\n",
      "        0.9521, 0.1842, 0.2251, 0.9990, 0.5364, 0.1768, 0.9452, 0.3077, 0.2454,\n",
      "        0.2870, 0.2141, 0.0299, 0.2964, 0.9706, 0.0749, 0.4661, 0.8007, 0.4828,\n",
      "        0.6219, 0.4361, 0.7903, 0.1554, 0.5686, 0.4053, 0.1008, 0.7826, 0.8945,\n",
      "        0.9568, 0.1120, 0.7063, 0.5755, 0.7039, 0.2134, 0.8458, 0.6192, 0.0385,\n",
      "        0.1207, 0.9584, 0.8137, 0.9626, 0.8920, 0.7837, 0.5395, 0.0201, 0.1677,\n",
      "        0.9764, 0.1789, 0.0879, 0.9171, 0.2181, 0.1401, 0.4251, 0.7892, 0.7196,\n",
      "        0.2931, 0.8292, 0.1941, 0.3767, 0.9191, 0.4750, 0.3693, 0.3638, 0.8163,\n",
      "        0.5296, 0.9990, 0.3916, 0.1516, 0.1710, 0.3354, 0.8414, 0.7333, 0.4961])\n",
      "coo_mask: torch.Size([2, 3, 3, 13])\n",
      "box_pred: torch.Size([18, 5]) ==> tensor([[0.1056, 0.9061, 0.9296, 0.6817, 0.8719],\n",
      "        [0.2833, 0.9155, 0.5667, 0.0161, 0.0549],\n",
      "        [0.0184, 0.4669, 0.3356, 0.6385, 0.8984],\n",
      "        [0.7565, 0.3751, 0.6226, 0.9477, 0.9733],\n",
      "        [0.4598, 0.1544, 0.2180, 0.2971, 0.0438],\n",
      "        [0.8640, 0.1491, 0.1471, 0.2197, 0.0968],\n",
      "        [0.7856, 0.8518, 0.5973, 0.4153, 0.8028],\n",
      "        [0.2590, 0.9521, 0.1842, 0.2251, 0.9990],\n",
      "        [0.3077, 0.2454, 0.2870, 0.2141, 0.0299],\n",
      "        [0.2964, 0.9706, 0.0749, 0.4661, 0.8007],\n",
      "        [0.7903, 0.1554, 0.5686, 0.4053, 0.1008],\n",
      "        [0.7826, 0.8945, 0.9568, 0.1120, 0.7063],\n",
      "        [0.8458, 0.6192, 0.0385, 0.1207, 0.9584],\n",
      "        [0.8137, 0.9626, 0.8920, 0.7837, 0.5395],\n",
      "        [0.1789, 0.0879, 0.9171, 0.2181, 0.1401],\n",
      "        [0.4251, 0.7892, 0.7196, 0.2931, 0.8292],\n",
      "        [0.4750, 0.3693, 0.3638, 0.8163, 0.5296],\n",
      "        [0.9990, 0.3916, 0.1516, 0.1710, 0.3354]])\n",
      "class_pred: torch.Size([9, 3]) ==> tensor([[0.6735, 0.2769, 0.3844],\n",
      "        [0.7848, 0.0317, 0.7323],\n",
      "        [0.5433, 0.9148, 0.6907],\n",
      "        [0.5364, 0.1768, 0.9452],\n",
      "        [0.4828, 0.6219, 0.4361],\n",
      "        [0.5755, 0.7039, 0.2134],\n",
      "        [0.0201, 0.1677, 0.9764],\n",
      "        [0.1941, 0.3767, 0.9191],\n",
      "        [0.8414, 0.7333, 0.4961]])\n"
     ]
    }
   ],
   "source": [
    "coo_pred = p[coo_mask].view(-1,B*5+C)\n",
    "print(f'coo_pred: {coo_pred.shape} ==> {coo_pred}  \\n####  p: {p.shape}  coo_mask: {coo_mask.shape}  p[coo_mask]: {p[coo_mask].shape}  ==>  {p[coo_mask]}')\n",
    "print(f'coo_mask: {coo_mask.shape}')\n",
    "box_pred = coo_pred[:,:10].contiguous().view(-1,5) #box[x1,y1,w1,h1,c1]\n",
    "print(f'box_pred: {box_pred.shape} ==> {box_pred}')\n",
    "class_pred = coo_pred[:,10:]                       #[x2,y2,w2,h2,c2]\n",
    "print(f'class_pred: {class_pred.shape} ==> {class_pred}')"
   ]
  },
  {
   "cell_type": "markdown",
   "id": "warming-generator",
   "metadata": {
    "ExecuteTime": {
     "end_time": "2021-04-21T03:52:08.894504Z",
     "start_time": "2021-04-21T03:52:08.888034Z"
    }
   },
   "source": [
    "## 一维情况"
   ]
  },
  {
   "cell_type": "code",
   "execution_count": 14,
   "id": "urban-adapter",
   "metadata": {
    "ExecuteTime": {
     "end_time": "2021-04-22T06:22:13.979163Z",
     "start_time": "2021-04-22T06:22:13.967852Z"
    }
   },
   "outputs": [
    {
     "name": "stdout",
     "output_type": "stream",
     "text": [
      "a: torch.Size([3, 4]) ==>  tensor([[0.0442, 0.0505, 0.7367, 0.0776],\n",
      "        [0.7360, 0.0349, 0.1427, 0.7083],\n",
      "        [0.2292, 0.5311, 0.9138, 0.4920]])\n"
     ]
    }
   ],
   "source": [
    "a = torch.rand(size=(3,4))\n",
    "print(f'a: {a.shape} ==>  {a}')"
   ]
  },
  {
   "cell_type": "code",
   "execution_count": 15,
   "id": "boolean-appreciation",
   "metadata": {
    "ExecuteTime": {
     "end_time": "2021-04-22T06:22:14.528503Z",
     "start_time": "2021-04-22T06:22:14.515319Z"
    }
   },
   "outputs": [
    {
     "name": "stdout",
     "output_type": "stream",
     "text": [
      "am: torch.Size([3])  ==>  tensor([False,  True, False])\n",
      "ame: torch.Size([3, 4])  ==>  tensor([[False, False, False, False],\n",
      "        [ True,  True,  True,  True],\n",
      "        [False, False, False, False]])\n"
     ]
    }
   ],
   "source": [
    "am = a[:, 0] > 0.5\n",
    "print(f'am: {am.shape}  ==>  {am}')\n",
    "ame = am.unsqueeze(-1).expand_as(a)\n",
    "print(f'ame: {ame.shape}  ==>  {ame}')"
   ]
  },
  {
   "cell_type": "code",
   "execution_count": 16,
   "id": "narrative-change",
   "metadata": {
    "ExecuteTime": {
     "end_time": "2021-04-22T06:22:14.951860Z",
     "start_time": "2021-04-22T06:22:14.938420Z"
    }
   },
   "outputs": [
    {
     "name": "stdout",
     "output_type": "stream",
     "text": [
      "sa: torch.Size([4])  ==>  tensor([0.7360, 0.0349, 0.1427, 0.7083])\n",
      "sar: torch.Size([1, 4])  ==>  tensor([[0.7360, 0.0349, 0.1427, 0.7083]])\n"
     ]
    }
   ],
   "source": [
    "sa = a[ame]\n",
    "print(f'sa: {sa.shape}  ==>  {sa}')\n",
    "sar = sa.view(-1, 4)\n",
    "print(f'sar: {sar.shape}  ==>  {sar}')"
   ]
  },
  {
   "cell_type": "markdown",
   "id": "running-election",
   "metadata": {},
   "source": [
    "## 二维情况"
   ]
  },
  {
   "cell_type": "code",
   "execution_count": 17,
   "id": "duplicate-banner",
   "metadata": {
    "ExecuteTime": {
     "end_time": "2021-04-22T06:22:16.466902Z",
     "start_time": "2021-04-22T06:22:16.463263Z"
    }
   },
   "outputs": [
    {
     "name": "stdout",
     "output_type": "stream",
     "text": [
      "a: torch.Size([2, 3, 4]) ==>  tensor([[[0.9907, 0.6587, 0.9684, 0.2413],\n",
      "         [0.6317, 0.4024, 0.7087, 0.3897],\n",
      "         [0.2685, 0.2228, 0.9266, 0.0109]],\n",
      "\n",
      "        [[0.6140, 0.5878, 0.2332, 0.3606],\n",
      "         [0.8871, 0.2283, 0.7728, 0.0134],\n",
      "         [0.9268, 0.5030, 0.4671, 0.1943]]])\n"
     ]
    }
   ],
   "source": [
    "a = torch.rand(size=(2,3,4))\n",
    "print(f'a: {a.shape} ==>  {a}')"
   ]
  },
  {
   "cell_type": "code",
   "execution_count": 18,
   "id": "treated-income",
   "metadata": {
    "ExecuteTime": {
     "end_time": "2021-04-22T06:22:18.137002Z",
     "start_time": "2021-04-22T06:22:18.123998Z"
    }
   },
   "outputs": [
    {
     "name": "stdout",
     "output_type": "stream",
     "text": [
      "am: torch.Size([2, 3])  ==>  tensor([[ True,  True, False],\n",
      "        [ True,  True,  True]])\n",
      "ame: torch.Size([2, 3, 4])  ==>  tensor([[[ True,  True,  True,  True],\n",
      "         [ True,  True,  True,  True],\n",
      "         [False, False, False, False]],\n",
      "\n",
      "        [[ True,  True,  True,  True],\n",
      "         [ True,  True,  True,  True],\n",
      "         [ True,  True,  True,  True]]])\n"
     ]
    }
   ],
   "source": [
    "am = a[:, :, 0] > 0.5\n",
    "print(f'am: {am.shape}  ==>  {am}')\n",
    "ame = am.unsqueeze(-1).expand_as(a)\n",
    "print(f'ame: {ame.shape}  ==>  {ame}')"
   ]
  },
  {
   "cell_type": "code",
   "execution_count": 19,
   "id": "lesser-tissue",
   "metadata": {
    "ExecuteTime": {
     "end_time": "2021-04-22T06:22:19.160211Z",
     "start_time": "2021-04-22T06:22:19.144684Z"
    }
   },
   "outputs": [
    {
     "name": "stdout",
     "output_type": "stream",
     "text": [
      "sa: torch.Size([20])  ==>  tensor([0.9907, 0.6587, 0.9684, 0.2413, 0.6317, 0.4024, 0.7087, 0.3897, 0.6140,\n",
      "        0.5878, 0.2332, 0.3606, 0.8871, 0.2283, 0.7728, 0.0134, 0.9268, 0.5030,\n",
      "        0.4671, 0.1943])\n",
      "sar: torch.Size([5, 4])  ==>  tensor([[0.9907, 0.6587, 0.9684, 0.2413],\n",
      "        [0.6317, 0.4024, 0.7087, 0.3897],\n",
      "        [0.6140, 0.5878, 0.2332, 0.3606],\n",
      "        [0.8871, 0.2283, 0.7728, 0.0134],\n",
      "        [0.9268, 0.5030, 0.4671, 0.1943]])\n"
     ]
    }
   ],
   "source": [
    "sa = a[ame]\n",
    "print(f'sa: {sa.shape}  ==>  {sa}')\n",
    "sar = sa.view(-1, 4)\n",
    "print(f'sar: {sar.shape}  ==>  {sar}')"
   ]
  },
  {
   "cell_type": "code",
   "execution_count": null,
   "id": "ambient-softball",
   "metadata": {},
   "outputs": [],
   "source": []
  },
  {
   "cell_type": "markdown",
   "id": "united-anime",
   "metadata": {},
   "source": [
    "## torch.nonzeros()"
   ]
  },
  {
   "cell_type": "code",
   "execution_count": 29,
   "id": "tropical-mercury",
   "metadata": {
    "ExecuteTime": {
     "end_time": "2021-04-22T06:39:34.702986Z",
     "start_time": "2021-04-22T06:39:34.700040Z"
    }
   },
   "outputs": [
    {
     "name": "stdout",
     "output_type": "stream",
     "text": [
      "a: torch.Size([12])  tensor([-2, -1, -1,  1,  0, -3, -3,  0, -2, -1,  2,  0])\n"
     ]
    }
   ],
   "source": [
    "a = torch.randint(low=-3, high=3, size=(12,))\n",
    "print(f'a: {a.shape}  {a}')"
   ]
  },
  {
   "cell_type": "code",
   "execution_count": 33,
   "id": "sitting-dutch",
   "metadata": {
    "ExecuteTime": {
     "end_time": "2021-04-22T06:41:29.195544Z",
     "start_time": "2021-04-22T06:41:29.179487Z"
    }
   },
   "outputs": [
    {
     "name": "stdout",
     "output_type": "stream",
     "text": [
      "sa: torch.Size([12])  tensor([ 2,  1,  0,  0,  0, -1, -1, -1, -2, -2, -3, -3])\n",
      "sa_idx: torch.Size([12])  tensor([10,  3,  4,  7, 11,  1,  2,  9,  0,  8,  5,  6])\n",
      "ssa: torch.Size([12])  tensor([ True,  True,  True, False, False,  True,  True, False,  True,  True,\n",
      "        False, False])\n",
      "nssa: torch.Size([7])  tensor([0, 1, 2, 5, 6, 8, 9])\n"
     ]
    }
   ],
   "source": [
    "sa, sa_idx = a.sort(0, descending=True)\n",
    "print(f'sa: {sa.shape}  {sa}')\n",
    "print(f'sa_idx: {sa_idx.shape}  {sa_idx}')\n",
    "ssa = a<0\n",
    "print(f'ssa: {ssa.shape}  {ssa}')\n",
    "nssa = ssa.nonzero().squeeze()\n",
    "print(f'nssa: {nssa.shape}  {nssa}')"
   ]
  },
  {
   "cell_type": "code",
   "execution_count": null,
   "id": "lovely-divorce",
   "metadata": {},
   "outputs": [],
   "source": []
  },
  {
   "cell_type": "code",
   "execution_count": null,
   "id": "british-bundle",
   "metadata": {},
   "outputs": [],
   "source": []
  }
 ],
 "metadata": {
  "kernelspec": {
   "display_name": "Python 3.7.10 64-bit ('object_tracking': conda)",
   "language": "python",
   "name": "python371064bitobjecttrackingconda66c6f2efc4d740808a4620e21504b8f3"
  },
  "language_info": {
   "codemirror_mode": {
    "name": "ipython",
    "version": 3
   },
   "file_extension": ".py",
   "mimetype": "text/x-python",
   "name": "python",
   "nbconvert_exporter": "python",
   "pygments_lexer": "ipython3",
   "version": "3.7.10"
  },
  "toc": {
   "base_numbering": 1,
   "nav_menu": {},
   "number_sections": true,
   "sideBar": true,
   "skip_h1_title": false,
   "title_cell": "Table of Contents",
   "title_sidebar": "Contents",
   "toc_cell": false,
   "toc_position": {},
   "toc_section_display": true,
   "toc_window_display": false
  },
  "varInspector": {
   "cols": {
    "lenName": 16,
    "lenType": 16,
    "lenVar": 40
   },
   "kernels_config": {
    "python": {
     "delete_cmd_postfix": "",
     "delete_cmd_prefix": "del ",
     "library": "var_list.py",
     "varRefreshCmd": "print(var_dic_list())"
    },
    "r": {
     "delete_cmd_postfix": ") ",
     "delete_cmd_prefix": "rm(",
     "library": "var_list.r",
     "varRefreshCmd": "cat(var_dic_list()) "
    }
   },
   "types_to_exclude": [
    "module",
    "function",
    "builtin_function_or_method",
    "instance",
    "_Feature"
   ],
   "window_display": false
  }
 },
 "nbformat": 4,
 "nbformat_minor": 5
}
