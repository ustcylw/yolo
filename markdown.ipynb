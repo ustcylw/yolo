{
 "cells": [
  {
   "cell_type": "markdown",
   "id": "geographic-james",
   "metadata": {},
   "source": [
    "# markdown 语法"
   ]
  },
  {
   "cell_type": "markdown",
   "id": "separate-discovery",
   "metadata": {},
   "source": [
    "Ref:  \n",
    "https://www.zybuluo.com/codeep/note/163962#mjx-eqn-eqsample  \n",
    "https://blog.csdn.net/qq_37590544/article/details/87374230  "
   ]
  },
  {
   "cell_type": "markdown",
   "id": "comparative-centre",
   "metadata": {},
   "source": [
    "## 1. 标题"
   ]
  },
  {
   "cell_type": "markdown",
   "id": "greatest-american",
   "metadata": {},
   "source": [
    "# 这是一级标题\n",
    "## 这是二级标题\n",
    "### 这是三级标题\n",
    "#### 这是四级标题\n",
    "##### 这是五级标题\n",
    "###### 这是六级标题"
   ]
  },
  {
   "cell_type": "markdown",
   "id": "suitable-indiana",
   "metadata": {},
   "source": [
    "## 2. 字体"
   ]
  },
  {
   "cell_type": "markdown",
   "id": "monthly-content",
   "metadata": {},
   "source": [
    "**这是加粗的文字**  ==> 要加粗的文字左右分别用两个*号包起来  \n",
    "*这是倾斜的文字*  ==> 要倾斜的文字左右分别用一个*号包起来  \n",
    "***这是斜体加粗的文字***  ==> 要倾斜和加粗的文字左右分别用三个*号包起来  \n",
    "~~这是加删除线的文字~~  ==> 要加删除线的文字左右分别用两个~~号包起来  \n",
    "\n",
    "*斜体文本*  \n",
    "_斜体文本_  \n",
    "**粗体文本**  \n",
    "__粗体文本__  \n",
    "***粗斜体文本***  \n",
    "___粗斜体文本___  \n",
    "下划线可以通过 HTML 的 <u>标签来实现</u>  \n",
    "\n",
    "创建脚注格式类似这样[^RUNOOB]。  \n",
    "[^RUNOOB]: 菜鸟教程 -- 学的不仅是技术，更是梦想！！！  "
   ]
  },
  {
   "cell_type": "markdown",
   "id": "structural-partition",
   "metadata": {},
   "source": [
    "## 3. 引用"
   ]
  },
  {
   "cell_type": "markdown",
   "id": "transparent-concern",
   "metadata": {
    "ExecuteTime": {
     "end_time": "2021-04-20T02:35:14.785896Z",
     "start_time": "2021-04-20T02:35:14.776645Z"
    }
   },
   "source": [
    "> 这是引用的内容\n",
    ">> 这是引用的内容\n",
    ">>>>>>>>>> 这是引用的内容"
   ]
  },
  {
   "cell_type": "markdown",
   "id": "improved-madness",
   "metadata": {},
   "source": [
    "## 4. 分割线"
   ]
  },
  {
   "cell_type": "markdown",
   "id": "successful-sydney",
   "metadata": {},
   "source": [
    "---\n",
    "----\n",
    "***\n",
    "*****"
   ]
  },
  {
   "cell_type": "markdown",
   "id": "tough-hospital",
   "metadata": {},
   "source": [
    "## 5. 图片"
   ]
  },
  {
   "cell_type": "code",
   "execution_count": 5,
   "id": "departmental-reggae",
   "metadata": {
    "ExecuteTime": {
     "end_time": "2021-04-20T02:38:01.742270Z",
     "start_time": "2021-04-20T02:38:01.736119Z"
    }
   },
   "outputs": [
    {
     "ename": "SyntaxError",
     "evalue": "invalid character in identifier (<ipython-input-5-9bf304ed0d7d>, line 2)",
     "output_type": "error",
     "traceback": [
      "\u001b[0;36m  File \u001b[0;32m\"<ipython-input-5-9bf304ed0d7d>\"\u001b[0;36m, line \u001b[0;32m2\u001b[0m\n\u001b[0;31m    图片alt就是显示在图片下面的文字，相当于对图片内容的解释。\u001b[0m\n\u001b[0m                                 ^\u001b[0m\n\u001b[0;31mSyntaxError\u001b[0m\u001b[0;31m:\u001b[0m invalid character in identifier\n"
     ]
    }
   ],
   "source": [
    "![图片alt](图片地址 ''图片title'')  \n",
    "图片alt就是显示在图片下面的文字，相当于对图片内容的解释。  \n",
    "图片title是图片的标题，当鼠标移到图片上时显示的内容。title可加可不加  \n",
    "> 在jupyter notebook中，图片可以直接粘贴上去。"
   ]
  },
  {
   "cell_type": "markdown",
   "id": "latin-twins",
   "metadata": {},
   "source": []
  },
  {
   "cell_type": "markdown",
   "id": "packed-judges",
   "metadata": {},
   "source": [
    "![blockchain](https://ss0.bdstatic.com/70cFvHSh_Q1YnxGkpoWK1HF6hhy/it/u=702257389,1274025419&fm=27&gp=0.jpg \"区块链\")"
   ]
  },
  {
   "cell_type": "markdown",
   "id": "greater-limit",
   "metadata": {},
   "source": [
    "## 6. 超链接"
   ]
  },
  {
   "cell_type": "markdown",
   "id": "sitting-setting",
   "metadata": {},
   "source": [
    "[超链接名](超链接地址 \"超链接title\")\n",
    "title可加可不加"
   ]
  },
  {
   "cell_type": "markdown",
   "id": "military-teacher",
   "metadata": {},
   "source": [
    "[简书](http://jianshu.com)  \n",
    "[百度](http://baidu.com)"
   ]
  },
  {
   "cell_type": "markdown",
   "id": "future-vinyl",
   "metadata": {},
   "source": [
    "## 7. 列表"
   ]
  },
  {
   "cell_type": "markdown",
   "id": "dying-merit",
   "metadata": {
    "ExecuteTime": {
     "end_time": "2021-04-20T03:27:40.728332Z",
     "start_time": "2021-04-20T03:27:40.724000Z"
    }
   },
   "source": [
    "## 7.1 无序列表用 - + * 任何一种都可以\n",
    "- 列表内容\n",
    "+ 列表内容\n",
    "* 列表内容\n",
    "\n",
    "注意：- + * 跟内容之间都要有一个空格\n",
    "## 7.2 有序列表\n",
    "1. 列表内容\n",
    "2. 列表内容\n",
    "3. 列表内容\n",
    "\n",
    "注意：序号跟内容之间要有空格\n",
    "## 7.3 列表嵌套  \n",
    "上一级和下一级之间敲三个空格即可  \n",
    "1. 列表嵌套1  \n",
    "   1.1 列表嵌套1.1  \n",
    "   1.2 列表嵌套1.2  \n",
    "2. 列表嵌套2  \n",
    "   + 列表嵌套2.1  \n",
    "   - 列表嵌套2.2  \n",
    "   * 列表嵌套2.2  \n",
    "+ 列表嵌套3  \n",
    "   3.1 列表嵌套3.1  \n",
    "   3.2 列表嵌套3.2  "
   ]
  },
  {
   "cell_type": "markdown",
   "id": "favorite-saying",
   "metadata": {},
   "source": [
    "## 8. 表格"
   ]
  },
  {
   "cell_type": "markdown",
   "id": "executive-bosnia",
   "metadata": {},
   "source": [
    "表头|表头|表头\n",
    "---|:--:|---:\n",
    "内容|内容|内容\n",
    "内容|内容|内容\n",
    "\n",
    "第二行分割表头和内容。\n",
    "- 有一个就行，为了对齐，多加了几个\n",
    "文字默认居左\n",
    "-两边加：表示文字居中\n",
    "-右边加：表示文字居右\n",
    "注：原生的语法两边都要用 | 包起来。此处省略"
   ]
  },
  {
   "cell_type": "markdown",
   "id": "massive-clothing",
   "metadata": {},
   "source": [
    "## 9. 代码"
   ]
  },
  {
   "cell_type": "markdown",
   "id": "ambient-buffalo",
   "metadata": {
    "ExecuteTime": {
     "end_time": "2021-04-20T03:36:33.185343Z",
     "start_time": "2021-04-20T03:36:33.176704Z"
    }
   },
   "source": [
    "### 9.1 单行代码\n",
    "单行代码：代码之间分别用一个反引号(左上角)包起来  \n",
    "`print(\"hello world!\")`"
   ]
  },
  {
   "cell_type": "markdown",
   "id": "passive-drain",
   "metadata": {
    "ExecuteTime": {
     "end_time": "2021-04-20T03:38:41.867111Z",
     "start_time": "2021-04-20T03:38:41.860342Z"
    }
   },
   "source": [
    "### 9.2 代码块\n",
    "代码块：代码之间分别用三个反引号包起来，且两边的反引号单独占一行  \n",
    "```\n",
    "import math\n",
    "print(math.sin(math.pi))\n",
    "```"
   ]
  },
  {
   "cell_type": "markdown",
   "id": "bizarre-dividend",
   "metadata": {},
   "source": [
    "## 10 enter\n",
    "### 10.1 单行换行\n",
    "根据其他Markdown语法介绍，换行直接敲回车是不行的，在有些编译器里是不会换行的。解决办法是换行后敲至少两个空格，或敲两个空格后再回车换行。这个方法或许在其他编译器里可行（笔者没有在其他编译器里实验），但是在简书里却实现不了多行换行，无论敲多少回车都是空一行。\n"
   ]
  },
  {
   "cell_type": "markdown",
   "id": "behind-istanbul",
   "metadata": {
    "ExecuteTime": {
     "end_time": "2021-04-20T04:29:07.952644Z",
     "start_time": "2021-04-20T04:29:07.949225Z"
    }
   },
   "source": [
    "## 11. 邮箱\n",
    "<99999999@qq.com>"
   ]
  },
  {
   "cell_type": "markdown",
   "id": "favorite-bidding",
   "metadata": {},
   "source": [
    "## 12. 段落\n",
    "Markdown 段落没有特殊的格式，直接编写文字就好，段落的换行是使用**两个以上空格加上回车**。也可以在段落后面使用一个**空行**来表示重新开始一个段落。"
   ]
  },
  {
   "cell_type": "markdown",
   "id": "emotional-jackson",
   "metadata": {},
   "source": [
    "## 13. 箭头"
   ]
  },
  {
   "cell_type": "markdown",
   "id": "backed-supplement",
   "metadata": {},
   "source": [
    "### 13.1 普通箭头\n",
    "箭头形状  \n",
    "\t$\\uparrow$\n",
    "\t$\\Uparrow$\n",
    "\t$\\downarrow$\n",
    "\t$\\Downarrow$\n",
    "\t$\\leftarrow$\n",
    "\t$\\Leftarrow$\n",
    "\t$\\rightarrow$\n",
    "\t$\\Rightarrow$\n",
    "\t$\\updownarrow$\n",
    "\t$\\Updownarrow$\n",
    "\t$\\leftrightarrow$\n",
    "\t$\\Leftrightarrow$\n"
   ]
  },
  {
   "cell_type": "markdown",
   "id": "proprietary-crash",
   "metadata": {},
   "source": [
    "### 13.2 长箭头\n",
    "箭头形状  \n",
    "\t$\\longleftarrow$\n",
    "\t$\\Longleftarrow$\n",
    "\t$\\longrightarrow$\n",
    "\t$\\Longrightarrow$\n",
    "\t$\\longleftrightarrow$\n",
    "\t$\\Longleftrightarrow$"
   ]
  },
  {
   "cell_type": "markdown",
   "id": "polished-angola",
   "metadata": {},
   "source": [
    "### 13.3 其它箭头形状\n",
    "箭头形状  \n",
    "\t$\\twoheadrightarrow$\n",
    "\t$\\rightarrowtail$\n",
    "\t$\\looparrowright$\n",
    "\t$\\curvearrowright$\n",
    "\t$\\circlearrowright$\n",
    "\t$\\Rsh$\n",
    "\t$\\multimap$\n",
    "\t$\\leftrightsquigarrow$\n",
    "\t$\\rightsquigarrow$\n",
    "\t$\\leadsto$\n",
    "\t$\\nearrow$\n",
    "\t$\\searrow$\n",
    "\t$\\swarrow$\n",
    "\t$\\nwarrow$\n",
    "\t$\\nleftarrow$\n",
    "\t$\\nLeftarrow$\n",
    "\t$\\nrightarrow$\n",
    "\t$\\nRightarrow$\n",
    "\t$\\nleftrightarrow$\n",
    "\t$\\nLeftrightarrow$\n",
    "\t$\\dashrightarrow$\n",
    "\t$\\dashleftarrow$\n",
    "\t$\\leftleftarrows$\n",
    "\t$\\leftrightarrows$\n",
    "\t$\\Lleftarrow$\n",
    "\t$\\twoheadleftarrow$\n",
    "\t$\\leftarrowtail$\n",
    "\t$\\looparrowleft$\n",
    "\t$\\curvearrowleft$\n",
    "\t$\\circlearrowleft$\n",
    "\t$\\Lsh$\n",
    "\t$\\mapsto$\n",
    "\t$\\hookleftarrow$\n",
    "\t$\\hookrightarrow$\n",
    "\t$\\upharpoonright$\n",
    "\t$\\upharpoonleft$\n",
    "\t$\\downharpoonright$\n",
    "\t$\\downharpoonleft$\n",
    "\t$\\leftharpoonup$\n",
    "\t$\\rightharpoonup$\n",
    "\t$\\rightharpoondown$\n",
    "\t$\\leftharpoondown$\n",
    "\t$\\upuparrows$\n",
    "\t$\\downdownarrows$\n",
    "\t$\\rightrightarrows$\n",
    "\t$\\rightleftarrows$\n",
    "\t$\\leftleftarrows$\n",
    "\t$\\leftrightarrows$\n",
    "\t$\\rightleftharpoons$\n",
    "\t$\\leftrightharpoons$"
   ]
  },
  {
   "cell_type": "markdown",
   "id": "informational-planning",
   "metadata": {},
   "source": [
    "## 14. emoji"
   ]
  },
  {
   "cell_type": "markdown",
   "id": "sized-easter",
   "metadata": {},
   "source": [
    "### 14.1 人物\n",
    ":bowtie: :bowtie:\tsmile :smile:\tlaughing :laughing:\n",
    "blush :blush:\tsmiley :smiley:\trelaxed :relaxed:\n",
    "smirk :smirk:\theart_eyes :heart_eyes:\tkissing_heart :kissing_heart:\n",
    "kissing_closed_eyes :kissing_closed_eyes:\tflushed :flushed:\trelieved :relieved:\n",
    "laughing :satisfied:\tgrin :grin:\twink :wink:\n",
    "stuck_out_tongue_winking_eye :stuck_out_tongue_winking_eye:\tstuck_out_tongue_closed_eyes :stuck_out_tongue_closed_eyes:\tgrinning :grinning:\n",
    "kissing :kissing:\tkissing_smiling_eyes :kissing_smiling_eyes:\tstuck_out_tongue :stuck_out_tongue:\n",
    "sleeping :sleeping:\tworried :worried:\tfrowning :frowning:\n",
    "anguished :anguished:\topen_mouth :open_mouth:\tgrimacing :grimacing:\n",
    "confused :confused:\thushed :hushed:\texpressionless :expressionless:\n",
    "unamused :unamused:\tsweat_smile :sweat_smile:\tsweat :sweat:\n",
    "disappointed_relieved :disappointed_relieved:\tweary :weary:\tpensive :pensive:\n",
    "disappointed :disappointed:\tconfounded :confounded:\tfearful :fearful:\n",
    "cold_sweat :cold_sweat:\tpersevere :persevere:\tcry :cry:\n",
    "sob :sob:\tjoy :joy:\tastonished :astonished:\n",
    "scream :scream:\t:neckbeard: :neckbeard:\ttired_face :tired_face:\n",
    "angry :angry:\trage :rage:\ttriumph :triumph:\n",
    "sleepy :sleepy:\tyum :yum:\tmask :mask:\n",
    "sunglasses :sunglasses:\tdizzy_face :dizzy_face:\timp :imp:\n",
    "smiling_imp :smiling_imp:\tneutral_face :neutral_face:\tno_mouth :no_mouth:\n",
    "innocent :innocent:\talien :alien:\tyellow_heart :yellow_heart:\n",
    "blue_heart :blue_heart:\tpurple_heart :purple_heart:\theart :heart:\n",
    "green_heart :green_heart:\tbroken_heart :broken_heart:\theartbeat :heartbeat:\n",
    "heartpulse :heartpulse:\ttwo_hearts :two_hearts:\trevolving_hearts :revolving_hearts:\n",
    "cupid :cupid:\tsparkling_heart :sparkling_heart:\tsparkles :sparkles:\n",
    "star :star:\tstar2 :star2:\tdizzy :dizzy:\n",
    "boom :boom:\tboom :collision:\tanger :anger:\n",
    "exclamation :exclamation:\tquestion :question:\tgrey_exclamation :grey_exclamation:\n",
    "grey_question :grey_question:\tzzz :zzz:\tdash :dash:\n",
    "sweat_drops :sweat_drops:\tnotes :notes:\tmusical_note :musical_note:\n",
    "fire :fire:\thankey :hankey:\thankey :poop:\n",
    "hankey :shit:\t+1 :+1:\t+1 :thumbsup:\n",
    "-1 :-1:\t-1 :thumbsdown:\tok_hand :ok_hand:\n",
    "fist_oncoming :punch:\tfist_oncoming :facepunch:\tfist_raised :fist:\n",
    "v :v:\twave :wave:\thand :hand:\n",
    "hand :raised_hand:\topen_hands :open_hands:\tpoint_up :point_up:\n",
    "point_down :point_down:\tpoint_left :point_left:\tpoint_right :point_right:\n",
    "raised_hands :raised_hands:\tpray :pray:\tpoint_up_2 :point_up_2:\n",
    "clap :clap:\tmuscle :muscle:\tmetal :metal:\n",
    "middle_finger :fu:\twalking :walking:\trunner :runner:\n",
    "runner :running:\tcouple :couple:\tfamily :family:\n",
    "two_men_holding_hands :two_men_holding_hands:\ttwo_women_holding_hands :two_women_holding_hands:\twoman_dancing :dancer:\n",
    "dancers :dancers:\tok_woman :ok_woman:\tno_good :no_good:\n",
    "tipping_hand_person :information_desk_person:\traising_hand :raising_hand:\tbride_with_veil :bride_with_veil:\n",
    ":person_with_pouting_face: :person_with_pouting_face:\t:person_frowning: :person_frowning:\tbow :bow:\n",
    "couplekiss :couplekiss:\tcouple_with_heart :couple_with_heart:\tmassage :massage:\n",
    "haircut :haircut:\tnail_care :nail_care:\tboy :boy:\n",
    "girl :girl:\twoman :woman:\tman :man:\n",
    "baby :baby:\tolder_woman :older_woman:\tolder_man :older_man:\n",
    ":person_with_blond_hair: :person_with_blond_hair:\tman_with_gua_pi_mao :man_with_gua_pi_mao:\tman_with_turban :man_with_turban:\n",
    "construction_worker :construction_worker:\tpolice_officer :cop:\tangel :angel:\n",
    "princess :princess:\tsmiley_cat :smiley_cat:\tsmile_cat :smile_cat:\n",
    "heart_eyes_cat :heart_eyes_cat:\tkissing_cat :kissing_cat:\tsmirk_cat :smirk_cat:\n",
    "scream_cat :scream_cat:\tcrying_cat_face :crying_cat_face:\tjoy_cat :joy_cat:\n",
    "pouting_cat :pouting_cat:\tjapanese_ogre :japanese_ogre:\tjapanese_goblin :japanese_goblin:\n",
    "see_no_evil :see_no_evil:\thear_no_evil :hear_no_evil:\tspeak_no_evil :speak_no_evil:\n",
    "guardsman :guardsman:\tskull :skull:\tfeet :feet:\n",
    "lips :lips:\tkiss :kiss:\tdroplet :droplet:\n",
    "ear :ear:\teyes :eyes:\tnose :nose:\n",
    "tongue :tongue:\tlove_letter :love_letter:\tbust_in_silhouette :bust_in_silhouette:\n",
    "busts_in_silhouette :busts_in_silhouette:\tspeech_balloon :speech_balloon:\tthought_balloon :thought_balloon:\n",
    ":feelsgood: :feelsgood:\t:finnadie: :finnadie:\t:goberserk: :goberserk:\n",
    ":godmode: :godmode:\t:hurtrealbad: :hurtrealbad:\t:rage1: :rage1:\n",
    ":rage2: :rage2:\t:rage3: :rage3:\t:rage4: :rage4:\n",
    ":suspect: :suspect:\t:trollface: :trollface:\t"
   ]
  },
  {
   "cell_type": "code",
   "execution_count": 11,
   "id": "built-harvest",
   "metadata": {
    "ExecuteTime": {
     "end_time": "2021-04-20T04:44:01.977306Z",
     "start_time": "2021-04-20T04:44:01.961528Z"
    }
   },
   "outputs": [
    {
     "ename": "SyntaxError",
     "evalue": "invalid syntax (<ipython-input-11-448f840aa713>, line 2)",
     "output_type": "error",
     "traceback": [
      "\u001b[0;36m  File \u001b[0;32m\"<ipython-input-11-448f840aa713>\"\u001b[0;36m, line \u001b[0;32m2\u001b[0m\n\u001b[0;31m    sunny :sunny:\tumbrella :umbrella:\tcloud :cloud:\u001b[0m\n\u001b[0m                ^\u001b[0m\n\u001b[0;31mSyntaxError\u001b[0m\u001b[0;31m:\u001b[0m invalid syntax\n"
     ]
    }
   ],
   "source": [
    "### 14.2 自然\n",
    "sunny :sunny:\tumbrella :umbrella:\tcloud :cloud:\n",
    "snowflake :snowflake:\tsnowman :snowman:\tzap :zap:\n",
    "cyclone :cyclone:\tfoggy :foggy:\tocean :ocean:\n",
    "cat :cat:\tdog :dog:\tmouse :mouse:\n",
    "hamster :hamster:\trabbit :rabbit:\twolf :wolf:\n",
    "frog :frog:\ttiger :tiger:\tkoala :koala:\n",
    "bear :bear:\tpig :pig:\tpig_nose :pig_nose:\n",
    "cow :cow:\tboar :boar:\tmonkey_face :monkey_face:\n",
    "monkey :monkey:\thorse :horse:\tracehorse :racehorse:\n",
    "camel :camel:\tsheep :sheep:\telephant :elephant:\n",
    "panda_face :panda_face:\tsnake :snake:\tbird :bird:\n",
    "baby_chick :baby_chick:\thatched_chick :hatched_chick:\thatching_chick :hatching_chick:\n",
    "chicken :chicken:\tpenguin :penguin:\tturtle :turtle:\n",
    "bug :bug:\tbee :honeybee:\tant :ant:\n",
    "beetle :beetle:\tsnail :snail:\toctopus :octopus:\n",
    "tropical_fish :tropical_fish:\tfish :fish:\twhale :whale:\n",
    "whale2 :whale2:\tdolphin :dolphin:\tcow2 :cow2:\n",
    "ram :ram:\trat :rat:\twater_buffalo :water_buffalo:\n",
    "tiger2 :tiger2:\trabbit2 :rabbit2:\tdragon :dragon:\n",
    "goat :goat:\trooster :rooster:\tdog2 :dog2:\n",
    "pig2 :pig2:\tmouse2 :mouse2:\tox :ox:\n",
    "dragon_face :dragon_face:\tblowfish :blowfish:\tcrocodile :crocodile:\n",
    "dromedary_camel :dromedary_camel:\tleopard :leopard:\tcat2 :cat2:\n",
    "poodle :poodle:\tfeet :paw_prints:\tbouquet :bouquet:\n",
    "cherry_blossom :cherry_blossom:\ttulip :tulip:\tfour_leaf_clover :four_leaf_clover:\n",
    "rose :rose:\tsunflower :sunflower:\thibiscus :hibiscus:\n",
    "maple_leaf :maple_leaf:\tleaves :leaves:\tfallen_leaf :fallen_leaf:\n",
    "herb :herb:\tmushroom :mushroom:\tcactus :cactus:\n",
    "palm_tree :palm_tree:\tevergreen_tree :evergreen_tree:\tdeciduous_tree :deciduous_tree:\n",
    "chestnut :chestnut:\tseedling :seedling:\tblossom :blossom:\n",
    "ear_of_rice :ear_of_rice:\tshell :shell:\tglobe_with_meridians :globe_with_meridians:\n",
    "sun_with_face :sun_with_face:\tfull_moon_with_face :full_moon_with_face:\tnew_moon_with_face :new_moon_with_face:\n",
    "new_moon :new_moon:\twaxing_crescent_moon :waxing_crescent_moon:\tfirst_quarter_moon :first_quarter_moon:\n",
    "moon :waxing_gibbous_moon:\tfull_moon :full_moon:\twaning_gibbous_moon :waning_gibbous_moon:\n",
    "last_quarter_moon :last_quarter_moon:\twaning_crescent_moon :waning_crescent_moon:\tlast_quarter_moon_with_face :last_quarter_moon_with_face:\n",
    "first_quarter_moon_with_face :first_quarter_moon_with_face:\tmoon :moon:\tearth_africa :earth_africa:\n",
    "earth_americas :earth_americas:\tearth_asia :earth_asia:\tvolcano :volcano:\n",
    "milky_way :milky_way:\tpartly_sunny :partly_sunny:\t:octocat: :octocat:\n",
    ":squirrel: :squirrel:\t\t"
   ]
  },
  {
   "cell_type": "code",
   "execution_count": 12,
   "id": "classified-hungary",
   "metadata": {
    "ExecuteTime": {
     "end_time": "2021-04-20T04:44:44.207507Z",
     "start_time": "2021-04-20T04:44:44.170624Z"
    }
   },
   "outputs": [
    {
     "ename": "SyntaxError",
     "evalue": "invalid syntax (<ipython-input-12-ea69c20286a8>, line 2)",
     "output_type": "error",
     "traceback": [
      "\u001b[0;36m  File \u001b[0;32m\"<ipython-input-12-ea69c20286a8>\"\u001b[0;36m, line \u001b[0;32m2\u001b[0m\n\u001b[0;31m    bamboo :bamboo:\tgift_heart :gift_heart:\tdolls :dolls:\u001b[0m\n\u001b[0m                  ^\u001b[0m\n\u001b[0;31mSyntaxError\u001b[0m\u001b[0;31m:\u001b[0m invalid syntax\n"
     ]
    }
   ],
   "source": [
    "### 14.3 事物\n",
    "bamboo :bamboo:\tgift_heart :gift_heart:\tdolls :dolls:\n",
    "school_satchel :school_satchel:\tmortar_board :mortar_board:\tflags :flags:\n",
    "fireworks :fireworks:\tsparkler :sparkler:\twind_chime :wind_chime:\n",
    "rice_scene :rice_scene:\tjack_o_lantern :jack_o_lantern:\tghost :ghost:\n",
    "santa :santa:\tchristmas_tree :christmas_tree:\tgift :gift:\n",
    "bell :bell:\tno_bell :no_bell:\ttanabata_tree :tanabata_tree:\n",
    "tada :tada:\tconfetti_ball :confetti_ball:\tballoon :balloon:\n",
    "crystal_ball :crystal_ball:\tcd :cd:\tdvd :dvd:\n",
    "floppy_disk :floppy_disk:\tcamera :camera:\tvideo_camera :video_camera:\n",
    "movie_camera :movie_camera:\tcomputer :computer:\ttv :tv:\n",
    "iphone :iphone:\tphone :phone:\tphone :telephone:\n",
    "telephone_receiver :telephone_receiver:\tpager :pager:\tfax :fax:\n",
    "minidisc :minidisc:\tvhs :vhs:\tsound :sound:\n",
    "speaker :speaker:\tmute :mute:\tloudspeaker :loudspeaker:\n",
    "mega :mega:\thourglass :hourglass:\thourglass_flowing_sand :hourglass_flowing_sand:\n",
    "alarm_clock :alarm_clock:\twatch :watch:\tradio :radio:\n",
    "satellite :satellite:\tloop :loop:\tmag :mag:\n",
    "mag_right :mag_right:\tunlock :unlock:\tlock :lock:\n",
    "lock_with_ink_pen :lock_with_ink_pen:\tclosed_lock_with_key :closed_lock_with_key:\tkey :key:\n",
    "bulb :bulb:\tflashlight :flashlight:\thigh_brightness :high_brightness:\n",
    "low_brightness :low_brightness:\telectric_plug :electric_plug:\tbattery :battery:\n",
    "calling :calling:\temail :email:\tmailbox :mailbox:\n",
    "postbox :postbox:\tbath :bath:\tbathtub :bathtub:\n",
    "shower :shower:\ttoilet :toilet:\twrench :wrench:\n",
    "nut_and_bolt :nut_and_bolt:\thammer :hammer:\tseat :seat:\n",
    "moneybag :moneybag:\tyen :yen:\tdollar :dollar:\n",
    "pound :pound:\teuro :euro:\tcredit_card :credit_card:\n",
    "money_with_wings :money_with_wings:\te-mail :e-mail:\tinbox_tray :inbox_tray:\n",
    "outbox_tray :outbox_tray:\temail :envelope:\tincoming_envelope :incoming_envelope:\n",
    "postal_horn :postal_horn:\tmailbox_closed :mailbox_closed:\tmailbox_with_mail :mailbox_with_mail:\n",
    "mailbox_with_no_mail :mailbox_with_no_mail:\tdoor :door:\tsmoking :smoking:\n",
    "bomb :bomb:\tgun :gun:\thocho :hocho:\n",
    "pill :pill:\tsyringe :syringe:\tpage_facing_up :page_facing_up:\n",
    "page_with_curl :page_with_curl:\tbookmark_tabs :bookmark_tabs:\tbar_chart :bar_chart:\n",
    "chart_with_upwards_trend :chart_with_upwards_trend:\tchart_with_downwards_trend :chart_with_downwards_trend:\tscroll :scroll:\n",
    "clipboard :clipboard:\tcalendar :calendar:\tdate :date:\n",
    "card_index :card_index:\tfile_folder :file_folder:\topen_file_folder :open_file_folder:\n",
    "scissors :scissors:\tpushpin :pushpin:\tpaperclip :paperclip:\n",
    "black_nib :black_nib:\tpencil2 :pencil2:\tstraight_ruler :straight_ruler:\n",
    "triangular_ruler :triangular_ruler:\tclosed_book :closed_book:\tgreen_book :green_book:\n",
    "blue_book :blue_book:\torange_book :orange_book:\tnotebook :notebook:\n",
    "notebook_with_decorative_cover :notebook_with_decorative_cover:\tledger :ledger:\tbooks :books:\n",
    "bookmark :bookmark:\tname_badge :name_badge:\tmicroscope :microscope:\n",
    "telescope :telescope:\tnewspaper :newspaper:\tfootball :football:\n",
    "basketball :basketball:\tsoccer :soccer:\tbaseball :baseball:\n",
    "tennis :tennis:\t8ball :8ball:\trugby_football :rugby_football:\n",
    "bowling :bowling:\tgolf :golf:\tmountain_bicyclist :mountain_bicyclist:\n",
    "bicyclist :bicyclist:\thorse_racing :horse_racing:\tsnowboarder :snowboarder:\n",
    "swimmer :swimmer:\tsurfer :surfer:\tski :ski:\n",
    "spades :spades:\thearts :hearts:\tclubs :clubs:\n",
    "diamonds :diamonds:\tgem :gem:\tring :ring:\n",
    "trophy :trophy:\tmusical_score :musical_score:\tmusical_keyboard :musical_keyboard:\n",
    "violin :violin:\tspace_invader :space_invader:\tvideo_game :video_game:\n",
    "black_joker :black_joker:\tflower_playing_cards :flower_playing_cards:\tgame_die :game_die:\n",
    "dart :dart:\tmahjong :mahjong:\tclapper :clapper:\n",
    "memo :memo:\tmemo :pencil:\tbook :book:\n",
    "art :art:\tmicrophone :microphone:\theadphones :headphones:\n",
    "trumpet :trumpet:\tsaxophone :saxophone:\tguitar :guitar:\n",
    "mans_shoe :shoe:\tsandal :sandal:\thigh_heel :high_heel:\n",
    "lipstick :lipstick:\tboot :boot:\tshirt :shirt:\n",
    "shirt :tshirt:\tnecktie :necktie:\twomans_clothes :womans_clothes:\n",
    "dress :dress:\trunning_shirt_with_sash :running_shirt_with_sash:\tjeans :jeans:\n",
    "kimono :kimono:\tbikini :bikini:\tribbon :ribbon:\n",
    "tophat :tophat:\tcrown :crown:\twomans_hat :womans_hat:\n",
    "mans_shoe :mans_shoe:\tclosed_umbrella :closed_umbrella:\tbriefcase :briefcase:\n",
    "handbag :handbag:\tpouch :pouch:\tpurse :purse:\n",
    "eyeglasses :eyeglasses:\tfishing_pole_and_fish :fishing_pole_and_fish:\tcoffee :coffee:\n",
    "tea :tea:\tsake :sake:\tbaby_bottle :baby_bottle:\n",
    "beer :beer:\tbeers :beers:\tcocktail :cocktail:\n",
    "tropical_drink :tropical_drink:\twine_glass :wine_glass:\tfork_and_knife :fork_and_knife:\n",
    "pizza :pizza:\thamburger :hamburger:\tfries :fries:\n",
    "poultry_leg :poultry_leg:\tmeat_on_bone :meat_on_bone:\tspaghetti :spaghetti:\n",
    "curry :curry:\tfried_shrimp :fried_shrimp:\tbento :bento:\n",
    "sushi :sushi:\tfish_cake :fish_cake:\trice_ball :rice_ball:\n",
    "rice_cracker :rice_cracker:\trice :rice:\tramen :ramen:\n",
    "stew :stew:\toden :oden:\tdango :dango:\n",
    "egg :egg:\tbread :bread:\tdoughnut :doughnut:\n",
    "custard :custard:\ticecream :icecream:\tice_cream :ice_cream:\n",
    "shaved_ice :shaved_ice:\tbirthday :birthday:\tcake :cake:\n",
    "cookie :cookie:\tchocolate_bar :chocolate_bar:\tcandy :candy:\n",
    "lollipop :lollipop:\thoney_pot :honey_pot:\tapple :apple:\n",
    "green_apple :green_apple:\ttangerine :tangerine:\tlemon :lemon:\n",
    "cherries :cherries:\tgrapes :grapes:\twatermelon :watermelon:\n",
    "strawberry :strawberry:\tpeach :peach:\tmelon :melon:\n",
    "banana :banana:\tpear :pear:\tpineapple :pineapple:\n",
    "sweet_potato :sweet_potato:\teggplant :eggplant:\ttomato :tomato:\n",
    "corn :corn:\t\t"
   ]
  },
  {
   "cell_type": "markdown",
   "id": "understood-aluminum",
   "metadata": {
    "ExecuteTime": {
     "end_time": "2021-04-20T04:45:11.538865Z",
     "start_time": "2021-04-20T04:45:11.536701Z"
    }
   },
   "source": [
    "### 14.4 地点\n",
    "house :house:\thouse_with_garden :house_with_garden:\tschool :school:\n",
    "office :office:\tpost_office :post_office:\thospital :hospital:\n",
    "bank :bank:\tconvenience_store :convenience_store:\tlove_hotel :love_hotel:\n",
    "hotel :hotel:\twedding :wedding:\tchurch :church:\n",
    "department_store :department_store:\teuropean_post_office :european_post_office:\tcity_sunrise :city_sunrise:\n",
    "city_sunset :city_sunset:\tjapanese_castle :japanese_castle:\teuropean_castle :european_castle:\n",
    "tent :tent:\tfactory :factory:\ttokyo_tower :tokyo_tower:\n",
    "japan :japan:\tmount_fuji :mount_fuji:\tsunrise_over_mountains :sunrise_over_mountains:\n",
    "sunrise :sunrise:\tstars :stars:\tstatue_of_liberty :statue_of_liberty:\n",
    "bridge_at_night :bridge_at_night:\tcarousel_horse :carousel_horse:\trainbow :rainbow:\n",
    "ferris_wheel :ferris_wheel:\tfountain :fountain:\troller_coaster :roller_coaster:\n",
    "ship :ship:\tspeedboat :speedboat:\tboat :boat:\n",
    "boat :sailboat:\trowboat :rowboat:\tanchor :anchor:\n",
    "rocket :rocket:\tairplane :airplane:\thelicopter :helicopter:\n",
    "steam_locomotive :steam_locomotive:\ttram :tram:\tmountain_railway :mountain_railway:\n",
    "bike :bike:\taerial_tramway :aerial_tramway:\tsuspension_railway :suspension_railway:\n",
    "mountain_cableway :mountain_cableway:\ttractor :tractor:\tblue_car :blue_car:\n",
    "oncoming_automobile :oncoming_automobile:\tcar :car:\tcar :red_car:\n",
    "taxi :taxi:\toncoming_taxi :oncoming_taxi:\tarticulated_lorry :articulated_lorry:\n",
    "bus :bus:\toncoming_bus :oncoming_bus:\trotating_light :rotating_light:\n",
    "police_car :police_car:\toncoming_police_car :oncoming_police_car:\tfire_engine :fire_engine:\n",
    "ambulance :ambulance:\tminibus :minibus:\ttruck :truck:\n",
    "train :train:\tstation :station:\ttrain2 :train2:\n",
    "bullettrain_front :bullettrain_front:\tbullettrain_side :bullettrain_side:\tlight_rail :light_rail:\n",
    "monorail :monorail:\trailway_car :railway_car:\ttrolleybus :trolleybus:\n",
    "ticket :ticket:\tfuelpump :fuelpump:\tvertical_traffic_light :vertical_traffic_light:\n",
    "traffic_light :traffic_light:\twarning :warning:\tconstruction :construction:\n",
    "beginner :beginner:\tatm :atm:\tslot_machine :slot_machine:\n",
    "busstop :busstop:\tbarber :barber:\thotsprings :hotsprings:\n",
    "checkered_flag :checkered_flag:\tcrossed_flags :crossed_flags:\tizakaya_lantern :izakaya_lantern:\n",
    "moyai :moyai:\tcircus_tent :circus_tent:\tperforming_arts :performing_arts:\n",
    "round_pushpin :round_pushpin:\ttriangular_flag_on_post :triangular_flag_on_post:\tjp :jp:\n",
    "kr :kr:\tcn :cn:\tus :us:\n",
    "fr :fr:\tes :es:\tit :it:\n",
    "ru :ru:\tgb :gb:\tgb :uk:\n",
    "de :de:\t\t"
   ]
  },
  {
   "cell_type": "markdown",
   "id": "driven-context",
   "metadata": {
    "ExecuteTime": {
     "end_time": "2021-04-20T04:45:47.463701Z",
     "start_time": "2021-04-20T04:45:47.452555Z"
    }
   },
   "source": [
    "### 14.5 符号\n",
    "one :one:\ttwo :two:\tthree :three:\n",
    "four :four:\tfive :five:\tsix :six:\n",
    "seven :seven:\teight :eight:\tnine :nine:\n",
    "keycap_ten :keycap_ten:\t1234 :1234:\tzero :zero:\n",
    "hash :hash:\tsymbols :symbols:\tarrow_backward :arrow_backward:\n",
    "arrow_down :arrow_down:\tarrow_forward :arrow_forward:\tarrow_left :arrow_left:\n",
    "capital_abcd :capital_abcd:\tabcd :abcd:\tabc :abc:\n",
    "arrow_lower_left :arrow_lower_left:\tarrow_lower_right :arrow_lower_right:\tarrow_right :arrow_right:\n",
    "arrow_up :arrow_up:\tarrow_upper_left :arrow_upper_left:\tarrow_upper_right :arrow_upper_right:\n",
    "arrow_double_down :arrow_double_down:\tarrow_double_up :arrow_double_up:\tarrow_down_small :arrow_down_small:\n",
    "arrow_heading_down :arrow_heading_down:\tarrow_heading_up :arrow_heading_up:\tleftwards_arrow_with_hook :leftwards_arrow_with_hook:\n",
    "arrow_right_hook :arrow_right_hook:\tleft_right_arrow :left_right_arrow:\tarrow_up_down :arrow_up_down:\n",
    "arrow_up_small :arrow_up_small:\tarrows_clockwise :arrows_clockwise:\tarrows_counterclockwise :arrows_counterclockwise:\n",
    "rewind :rewind:\tfast_forward :fast_forward:\tinformation_source :information_source:\n",
    "ok :ok:\ttwisted_rightwards_arrows :twisted_rightwards_arrows:\trepeat :repeat:\n",
    "repeat_one :repeat_one:\tnew :new:\ttop :top:\n",
    "up :up:\tcool :cool:\tfree :free:\n",
    "ng :ng:\tcinema :cinema:\tkoko :koko:\n",
    "signal_strength :signal_strength:\tu5272 :u5272:\tu5408 :u5408:\n",
    "u55b6 :u55b6:\tu6307 :u6307:\tu6708 :u6708:\n",
    "u6709 :u6709:\tu6e80 :u6e80:\tu7121 :u7121:\n",
    "u7533 :u7533:\tu7a7a :u7a7a:\tu7981 :u7981:\n",
    "sa :sa:\trestroom :restroom:\tmens :mens:\n",
    "womens :womens:\tbaby_symbol :baby_symbol:\tno_smoking :no_smoking:\n",
    "parking :parking:\twheelchair :wheelchair:\tmetro :metro:\n",
    "baggage_claim :baggage_claim:\taccept :accept:\twc :wc:\n",
    "potable_water :potable_water:\tput_litter_in_its_place :put_litter_in_its_place:\tsecret :secret:\n",
    "congratulations :congratulations:\tm :m:\tpassport_control :passport_control:\n",
    "left_luggage :left_luggage:\tcustoms :customs:\tideograph_advantage :ideograph_advantage:\n",
    "cl :cl:\tsos :sos:\tid :id:\n",
    "no_entry_sign :no_entry_sign:\tunderage :underage:\tno_mobile_phones :no_mobile_phones:\n",
    "do_not_litter :do_not_litter:\tnon-potable_water :non-potable_water:\tno_bicycles :no_bicycles:\n",
    "no_pedestrians :no_pedestrians:\tchildren_crossing :children_crossing:\tno_entry :no_entry:\n",
    "eight_spoked_asterisk :eight_spoked_asterisk:\teight_pointed_black_star :eight_pointed_black_star:\theart_decoration :heart_decoration:\n",
    "vs :vs:\tvibration_mode :vibration_mode:\tmobile_phone_off :mobile_phone_off:\n",
    "chart :chart:\tcurrency_exchange :currency_exchange:\taries :aries:\n",
    "taurus :taurus:\tgemini :gemini:\tcancer :cancer:\n",
    "leo :leo:\tvirgo :virgo:\tlibra :libra:\n",
    "scorpius :scorpius:\tsagittarius :sagittarius:\tcapricorn :capricorn:\n",
    "aquarius :aquarius:\tpisces :pisces:\tophiuchus :ophiuchus:\n",
    "six_pointed_star :six_pointed_star:\tnegative_squared_cross_mark :negative_squared_cross_mark:\ta :a:\n",
    "b :b:\tab :ab:\to2 :o2:\n",
    "diamond_shape_with_a_dot_inside :diamond_shape_with_a_dot_inside:\trecycle :recycle:\tend :end:\n",
    "on :on:\tsoon :soon:\tclock1 :clock1:\n",
    "clock130 :clock130:\tclock10 :clock10:\tclock1030 :clock1030:\n",
    "clock11 :clock11:\tclock1130 :clock1130:\tclock12 :clock12:\n",
    "clock1230 :clock1230:\tclock2 :clock2:\tclock230 :clock230:\n",
    "clock3 :clock3:\tclock330 :clock330:\tclock4 :clock4:\n",
    "clock430 :clock430:\tclock5 :clock5:\tclock530 :clock530:\n",
    "clock6 :clock6:\tclock630 :clock630:\tclock7 :clock7:\n",
    "clock730 :clock730:\tclock8 :clock8:\tclock830 :clock830:\n",
    "clock9 :clock9:\tclock930 :clock930:\theavy_dollar_sign :heavy_dollar_sign:\n",
    "copyright :copyright:\tregistered :registered:\ttm :tm:\n",
    "x :x:\texclamation :heavy_exclamation_mark:\tbangbang :bangbang:\n",
    "interrobang :interrobang:\to :o:\theavy_multiplication_x :heavy_multiplication_x:\n",
    "heavy_plus_sign :heavy_plus_sign:\theavy_minus_sign :heavy_minus_sign:\theavy_division_sign :heavy_division_sign:\n",
    "white_flower :white_flower:\t100 :100:\theavy_check_mark :heavy_check_mark:\n",
    "ballot_box_with_check :ballot_box_with_check:\tradio_button :radio_button:\tlink :link:\n",
    "curly_loop :curly_loop:\twavy_dash :wavy_dash:\tpart_alternation_mark :part_alternation_mark:\n",
    "trident :trident:\t:black_square: :black_square:\t:white_square: :white_square:\n",
    "white_check_mark :white_check_mark:\tblack_square_button :black_square_button:\twhite_square_button :white_square_button:\n",
    "black_circle :black_circle:\twhite_circle :white_circle:\tred_circle :red_circle:\n",
    "large_blue_circle :large_blue_circle:\tlarge_blue_diamond :large_blue_diamond:\tlarge_orange_diamond :large_orange_diamond:\n",
    "small_blue_diamond :small_blue_diamond:\tsmall_orange_diamond :small_orange_diamond:\tsmall_red_triangle :small_red_triangle:\n",
    "small_red_triangle_down :small_red_triangle_down:\t:shipit: :shipit:\t"
   ]
  },
  {
   "cell_type": "markdown",
   "id": "threaded-evaluation",
   "metadata": {},
   "source": [
    "/apm/l/:packageName"
   ]
  },
  {
   "cell_type": "markdown",
   "id": "serious-registrar",
   "metadata": {},
   "source": [
    "## 15. 上下标\n",
    "H<sub>2</sub>O  \n",
    "CO<sub>2</sub>  \n",
    "爆米<sup>TM</sup>  "
   ]
  },
  {
   "cell_type": "markdown",
   "id": "essential-supervisor",
   "metadata": {},
   "source": [
    "## 16. 希腊字母\n",
    "$\\alpha$  \n",
    "$\\lambda$  \n",
    "$\\alpha$  \n",
    "$\\alpha$  $\\beta$  $\\lambda$"
   ]
  },
  {
   "cell_type": "markdown",
   "id": "colonial-execution",
   "metadata": {
    "ExecuteTime": {
     "end_time": "2021-04-20T05:07:44.751542Z",
     "start_time": "2021-04-20T05:07:44.748382Z"
    }
   },
   "source": [
    "## 17. 公式"
   ]
  },
  {
   "cell_type": "markdown",
   "id": "early-activation",
   "metadata": {},
   "source": [
    "### 17.1 位置\n",
    "+ 正文(inline)中的LaTeX公式用**$...$**定义  \n",
    "+ 语句为$\\sum_{i=0}^N\\int_{a}^{b}g(t,i)\\text{d}t$  \n",
    "+ 显示在当前行内(简书目前不支持mathjax 只好暂时用图片代替了→_→)  \n",
    "+ 单独显示(display)的LaTeX公式用**$$...$$**定义，此时公式居中并放大显示\n",
    "+ 语句为$$\\sum_{i=0}N\\int_{a}{b}g(t,i)\\text{d}t$$  \n",
    "+ 显示为  "
   ]
  },
  {
   "cell_type": "markdown",
   "id": "prescribed-glance",
   "metadata": {},
   "source": [
    "### 17.3 公式中的希腊字母\n",
    "$\\alpha$ $\\Alpha$\n",
    "$\\beta$ $\\Beta$\n",
    "$\\gamma$ $\\Gamma$\n",
    "$\\delta$ $\\Delta$\n",
    "$\\epsilon$ $\\Epsilon$\n",
    "$\\zeta$ $\\Zeta$\n",
    "$\\eta$ $\\Eta$\n",
    "$\\theta$ $\\Theta$\n",
    "$\\iota$ $\\Iota$\n",
    "$\\kappa$ $\\Kappa$\n",
    "$\\lambda$ $\\Lambda$\n",
    "$\\mu$ $\\Mu$\n",
    "$\\nu$ $\\Nu$\n",
    "$\\xi$ $\\Xi$\n",
    "$\\pi$ $\\Pi$\n",
    "$\\rho$ $\\Rho$\n",
    "$\\sigma$ $\\Sigma$\n",
    "$\\tau$ $\\Tau$\n",
    "$\\upsilon$ $\\Upsilon$\n",
    "$\\phi$ $\\Phi$\n",
    "$\\chi$ $\\Chi$\n",
    "$\\psi$ $\\Psi$\n",
    "$\\omega$ $\\Omega$\n",
    "> 若需要大写希腊字母，将命令首字母大写即可  \n",
    "> 若需要斜体希腊字母，将命令前加上var前缀即可"
   ]
  },
  {
   "cell_type": "markdown",
   "id": "found-position",
   "metadata": {},
   "source": [
    "### 17.4 字母修饰\n",
    "#### 17.4.1 上下标\n",
    "+ 上标：^  \n",
    "+ 下标：_  \n",
    "\n",
    "$C_n^2  $\n",
    "#### 17.4.2 矢量\n",
    "$\\vec a$  \n",
    "$\\overrightarrow{xy}$\n",
    "#### 17.4.3 字体\n",
    "+ Typewriter: $\\mathtt{A}$\n",
    "+ + $\\mathtt{A}$  $\\mathtt{B}$  $\\mathtt{C}$  $\\mathtt{D}$  \n",
    "+ Blackboard Bold: $\\mathbb{A}$  \n",
    "+ + $\\mathbb{A}$  $\\mathbb{B}$  $\\mathbb{C}$  $\\mathbb{D}$  \n",
    "\n",
    "+ Sans Serif: $\\mathsf{A}$  \n",
    "+ + $\\mathsf{A}$  $\\mathsf{B}$  $\\mathsf{C}$  $\\mathsf{D}$  \n",
    "#### 17.4.4 分组\n",
    "使用{}讲具有相同等级的内容扩入其中，成组处理\n",
    "+ $10^{10}$和$10^10$\n",
    "#### 17.4.5 括号\n",
    "+ 小括号： $()$\n",
    "+ 中括号： $[]$\n",
    "+ 尖括号：$\\langle,\\rangle$\n",
    "+ 上括号：$\\lceil,\\rceil$  \n",
    "+ 下括号：$\\lfloor,\\rfloor$  \n",
    "+ 花括号：$\\lbrace,\\rbrace$  \n",
    "+ 垂直号：$\\lvert,\\rvert$  \n",
    "+ 垂直号：$\\lVert,\\rVert$ $\\quad==>\\quad$ $\\lVert \\boldsymbol{X}_i - \\boldsymbol{S}_j \\rVert^2$  \n",
    "+ 使用\\left(或\\right)使括号大小与临近的公式相适应；该语句适用于所有括号类型\n",
    "+ + $(\\frac{x}{y})$和$\\left(\\frac{x}{y}\\right)$\n",
    "#### 17.4.6 积分求和求积极限\n",
    "+ 求和： $\\sum$，如$\\sum_{i=1}^\\infty$ $\\sum_{下标表达式}^{上标表达式} {累加表达式}$ \n",
    "+ 求积： $\\prod$，如$\\prod_{i=1}^n \\frac{1}{i^2}$  \n",
    "+ 求并： $\\bigcup$，如$\\bigcup_{i=1}^{2}$  \n",
    "+ 求交： $\\bigcup$，如$\\bigcup_{i=1}^{2}$  \n",
    "+ 极限：$\\lim_{x\\to 0}$  \n",
    "+ 积分：$\\int_0^\\infty{fxdx}$，如$\\int_{x-1}^\\infty{fxdx}$  $\\quad==>\\quad$ $ \\lim_{n \\to \\infty} \\frac{1}{n(n+1)} \\quad and \\quad \\lim_{x\\leftarrow{示例}} \\frac{1}{n(n+1)} $\n",
    "#### 17.4.7 分式与根式\n",
    "+ 分式： $\\frac{公式一}{公式二}$，如$\\frac{x}{y}$\n",
    "+ 根式：$\\sqrt[x]{y}$\n",
    "#### 17.4.8 特殊函数\n",
    "+ $\\sin x$  $\\max(A, B, C)$  $\\ln x$\n",
    "#### 17.4.9 特殊符号\n",
    "$\\infty$  $\\cup$  $\\cap$  $\\subset$  $\\subseteq$  $\\supset$  $\\in$  $\\notin$  $\\varnothing$  $\\forall$  $\\exists$  $\\lnot$  $\\nabla$  $\\partial$  \n",
    "#### 17.4.10 空格\n",
    "+ 公式中表示：\n",
    "+ + 小空格：$a\\ b$\n",
    "+ + 4个空格：$a\\quad b$  \n",
    "+ 文本中表示：&nbsp\n",
    "#### 17.4.11 省略号\n",
    "+ \\ldots 表示与 文本底线 对齐的省略号  \n",
    "+ \\cdots 表示与 文本中线 对齐的省略号\n",
    "> $$ f(x_1,x_2,\\underbrace{\\ldots}_{\\rm ldots} ,x_n) = x_1^2 + x_2^2 + \\underbrace{\\cdots}_{\\rm cdots} + x_n^2 $$\n",
    "#### 17.4.12 比较符号\n",
    "+ 大于号：&lt; $\\quad==>\\quad$  公式中表示：$\\lt$\n",
    "+ 小于号：&gt; $\\quad==>\\quad$  公式中表示：$\\gt$\n",
    "\n",
    "示例：\n",
    "行中公式可以用如下方法表示： $数学公式$\n",
    "$J_\\alpha(x) = \\sum_{m=0}^\\infty \\frac{(-1)^m}{m! \\Gamma (m+\\alpha+1)} {\\left({\\frac{x}{2}}\\right)}^{2m+\\alpha} \\text {------------公式1}$    &nbsp;&nbsp;&nbsp;&nbsp; ==>行内公式示例  \n",
    "$J_\\alpha(x)$  \n",
    "$J_\\alpha(x) = \\sum_{m=0}^\\infty$  \n",
    "$J_\\alpha(x) = \\sum_{m=0}^\\infty \\frac{(-1)^m}{m!\\Gamma(m+\\alpha+1)}$  \n",
    "$J_\\alpha(x) = \\sum_{m=0}^\\infty \\frac{(-1)^m}{m!\\Gamma(m+\\alpha+1)} {\\left({\\frac{x}{2}}\\right)}^{2m+\\alpha}$  \n",
    "${\\left({\\frac{x}{2}}\\right)}^{2m+\\alpha}$  \n",
    "${\\alpha}=\\sin(x)$"
   ]
  },
  {
   "attachments": {
    "image.png": {
     "image/png": "[encoded data removed]"
    }
   },
   "cell_type": "markdown",
   "id": "olive-representation",
   "metadata": {},
   "source": [
    "### 17.5 矩阵\n",
    "#### 17.5.1 基本语法\n",
    "起始标记\\begin{matrix}，结束标记\\end{matrix}  \n",
    "每一行末尾标记\\\\\\，行间元素之间以&分隔  \n",
    "$$\\begin{matrix}\n",
    "1&0&0\\\\\n",
    "0&1&0\\\\\n",
    "0&0&1\\\\\n",
    "\\end{matrix}$$\n",
    "#### 17.5.2 矩阵边框\n",
    "+ 在起始、结束标记处用下列词替换 matrix\n",
    "+ pmatrix ：小括号边框\n",
    "+ bmatrix ：中括号边框\n",
    "+ Bmatrix ：大括号边框\n",
    "+ vmatrix ：单竖线边框\n",
    "+ Vmatrix ：双竖线边框\n",
    "#### 17.5.3 省略元素\n",
    "+ 省略元素\n",
    "+ 横省略号：\\cdots\n",
    "+ 竖省略号：\\vdots\n",
    "+ 斜省略号：\\ddots\n",
    "$$\\begin{bmatrix}\n",
    "{a_{11}}&{a_{12}}&{\\cdots}&{a_{1n}}\\\\\n",
    "{a_{21}}&{a_{22}}&{\\cdots}&{a_{2n}}\\\\\n",
    "{\\vdots}&{\\vdots}&{\\ddots}&{\\vdots}\\\\\n",
    "{a_{m1}}&{a_{m2}}&{\\cdots}&{a_{mn}}\\\\\n",
    "\\end{bmatrix}$$\n",
    "#### 17.5.4 阵列\n",
    "![image.png](attachment:image.png)\n",
    "$$\\begin{array}{c|lll}\n",
    "{↓}&{a}&{b}&{c}\\\\\n",
    "\\hline\n",
    "{R_1}&{c}&{b}&{a}\\\\\n",
    "{R_2}&{b}&{c}&{c}\\\\\n",
    "\\end{array}$$\n",
    "#### 17.5.5 方程组\n",
    "需要cases环境：起始、结束处以{cases}声明\n",
    "$$\\begin{cases}\n",
    "a_1x+b_1y+c_1z=d_1\\\\\n",
    "a_2x+b_2y+c_2z=d_2\\\\\n",
    "a_3x+b_3y+c_3z=d_3\\\\\n",
    "\\end{cases}\n",
    "$$"
   ]
  },
  {
   "cell_type": "markdown",
   "id": "fourth-guard",
   "metadata": {},
   "source": [
    "### 17.1 行内公式\n"
   ]
  },
  {
   "cell_type": "code",
   "execution_count": null,
   "id": "complete-webcam",
   "metadata": {},
   "outputs": [],
   "source": []
  },
  {
   "cell_type": "markdown",
   "id": "infinite-exercise",
   "metadata": {},
   "source": []
  },
  {
   "cell_type": "markdown",
   "id": "dirty-construction",
   "metadata": {},
   "source": [
    "$$\\begin{matrix}\n",
    "1&0&0\\\\\n",
    "0&1&0\\\\\n",
    "0&0&1\\\\\n",
    "\\end{matrix}$$  \n",
    "$$\\begin{bmatrix}\n",
    "{a_{11}}&{a_{12}}&{\\cdots}&{a_{1n}}\\\\\n",
    "{a_{21}}&{a_{22}}&{\\cdots}&{a_{2n}}\\\\\n",
    "{\\vdots}&{\\vdots}&{\\ddots}&{\\vdots}\\\\\n",
    "{a_{m1}}&{a_{m2}}&{\\cdots}&{a_{mn}}\\\\\n",
    "\\end{bmatrix}$$  \n",
    "$$\\begin{array}{c|lll}\n",
    "{↓}&{a}&{b}&{c}\\\\\n",
    "\\hline\n",
    "{R_1}&{c}&{b}&{a}\\\\\n",
    "{R_2}&{b}&{c}&{c}\\\\\n",
    "\\end{array}$$"
   ]
  },
  {
   "cell_type": "markdown",
   "id": "saved-engagement",
   "metadata": {
    "ExecuteTime": {
     "end_time": "2021-04-20T06:50:29.335791Z",
     "start_time": "2021-04-20T06:50:29.332553Z"
    }
   },
   "source": [
    "## 附录\n",
    "### 附录一：图标\n",
    "❤️ ✨⭐ ❗❓❕❔ ✊✌️ ✋✋ ☝️\n",
    "\n",
    "☀️ ☔ ☁️ ❄️ ⛄ ⚡ ⛅\n",
    "\n",
    "☎️ ☎️ ⌛ ⏳ ⏰ ⌚ ➿ ✉️ ✉️ ✂️ ✒️ ✏️ ⚽ ⚾️ ⛳ ♠️ ♥️ ♣️ ♦️ ☕\n",
    "\n",
    "⛪ ⛺ ⛲ ⛵ ⛵ ⚓ ✈️ ⛽ ⚠️ ♨️\n",
    "\n",
    "1️⃣ 2️⃣ 3️⃣ 4️⃣ 5️⃣ 6️⃣ 7️⃣ 8️⃣ 9️⃣ 0️⃣ #️⃣ ◀️ ⬇️ ▶️ ⬅️ ↙️ ↘️ ➡️ ⬆️ ↖️ ↗️ ⏬ ⏫ ⤵️ ⤴️ ↩️ ↪️ ↔️ ↕️ ⏪ ⏩ ℹ️ ️ ️ ️ ♿ ㊙️ ㊗️ Ⓜ️ ⛔ ✳️ ❇️ ✴️ ♈ ♉ ♊ ♋ ♌ ♍ ♎ ♏ ♐ ♑ ♒ ♓ ⛎ ❎ ️ ️ ️ ♻️ ©️ ®️ ™️ ❌ ❗ ‼️ ⁉️ ⭕ ✖️ ➕ ➖ ➗ ✔️ ☑️ ➰ 〰️ 〽️ ▪️ ▫️ ◾ ◽ ◼️ ◻️ ⬛ ⬜ ✅ ⚫ ⚪\n"
   ]
  },
  {
   "cell_type": "code",
   "execution_count": null,
   "id": "falling-arcade",
   "metadata": {},
   "outputs": [],
   "source": []
  }
 ],
 "metadata": {
  "kernelspec": {
   "display_name": "Python 3.7.10 64-bit ('object_tracking': conda)",
   "language": "python",
   "name": "python371064bitobjecttrackingconda66c6f2efc4d740808a4620e21504b8f3"
  },
  "language_info": {
   "codemirror_mode": {
    "name": "ipython",
    "version": 3
   },
   "file_extension": ".py",
   "mimetype": "text/x-python",
   "name": "python",
   "nbconvert_exporter": "python",
   "pygments_lexer": "ipython3",
   "version": "3.7.10"
  },
  "toc": {
   "base_numbering": 1,
   "nav_menu": {},
   "number_sections": true,
   "sideBar": true,
   "skip_h1_title": false,
   "title_cell": "Table of Contents",
   "title_sidebar": "Contents",
   "toc_cell": false,
   "toc_position": {},
   "toc_section_display": true,
   "toc_window_display": true
  },
  "varInspector": {
   "cols": {
    "lenName": 16,
    "lenType": 16,
    "lenVar": 40
   },
   "kernels_config": {
    "python": {
     "delete_cmd_postfix": "",
     "delete_cmd_prefix": "del ",
     "library": "var_list.py",
     "varRefreshCmd": "print(var_dic_list())"
    },
    "r": {
     "delete_cmd_postfix": ") ",
     "delete_cmd_prefix": "rm(",
     "library": "var_list.r",
     "varRefreshCmd": "cat(var_dic_list()) "
    }
   },
   "types_to_exclude": [
    "module",
    "function",
    "builtin_function_or_method",
    "instance",
    "_Feature"
   ],
   "window_display": false
  }
 },
 "nbformat": 4,
 "nbformat_minor": 5
}
